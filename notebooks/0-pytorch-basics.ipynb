{
  "nbformat": 4,
  "nbformat_minor": 0,
  "metadata": {
    "colab": {
      "provenance": []
    },
    "kernelspec": {
      "name": "python3",
      "display_name": "Python 3"
    },
    "language_info": {
      "name": "python"
    }
  },
  "cells": [
    {
      "cell_type": "markdown",
      "source": [
        "# PyTorch Basics"
      ],
      "metadata": {
        "id": "3p7FGpjGZg3B"
      }
    },
    {
      "cell_type": "markdown",
      "source": [
        "[PyTorch](https://pytorch.org/) is an optimized tensor library for deep learning using GPUs and CPUs.\n",
        "\n",
        "In this first tutorial, we'll start with the basics of:\n",
        "- `torch.tensor` and `torch.autograd`.\n",
        "- Setting up the input system.\n",
        "- Setting up the training and test pipeline.\n",
        "- Downloading and using pretrained models.\n",
        "- Saving and loading models.\n",
        "\n",
        "\n"
      ],
      "metadata": {
        "id": "olXnoPvmWpMe"
      }
    },
    {
      "cell_type": "markdown",
      "source": [
        "## Libraries"
      ],
      "metadata": {
        "id": "SVXLGmpSWZpX"
      }
    },
    {
      "cell_type": "code",
      "source": [
        "# !pip install torch\n",
        "# !pip install torchvision"
      ],
      "metadata": {
        "id": "PkvO_nnUbG1A"
      },
      "execution_count": 1,
      "outputs": []
    },
    {
      "cell_type": "code",
      "execution_count": 2,
      "metadata": {
        "id": "OxpGx3FZWLGv"
      },
      "outputs": [],
      "source": [
        "import torch\n",
        "import torchvision\n",
        "import torch.nn as nn\n",
        "import numpy as np\n",
        "import torchvision.transforms as transforms\n",
        "from tqdm import tqdm"
      ]
    },
    {
      "cell_type": "markdown",
      "source": [
        "## Basic `autograd` Example"
      ],
      "metadata": {
        "id": "GT-wwJgQZ2AD"
      }
    },
    {
      "cell_type": "markdown",
      "source": [
        "To start, a `torch.tensor` is a multi-dimensional vector containing elements of a single data type.\n",
        "\n",
        "`torch.autograd` is PyTorch’s automatic differentiation engine that powers neural network training. In backpropagation, the neural network adjusts its parameters proportionate to the error in its guess. It does this by traversing backwards from the output, collecting the derivatives of the error with respect to the parameters of the functions, and optimizing the parameters using gradient descent."
      ],
      "metadata": {
        "id": "BzwXOsjtaDRG"
      }
    },
    {
      "cell_type": "code",
      "source": [
        "# Create tensors.\n",
        "a = torch.tensor([1.], requires_grad=True)\n",
        "b = torch.tensor([2.], requires_grad=True)\n",
        "\n",
        "# Build a computational graph.\n",
        "L = 3 * a**3 - b**2\n",
        "\n",
        "# Compute gradients.\n",
        "L.backward()\n",
        "\n",
        "# Print out the gradients.\n",
        "print(9 * a**2 == a.grad)\n",
        "print(-2 * b == b.grad)"
      ],
      "metadata": {
        "colab": {
          "base_uri": "https://localhost:8080/"
        },
        "id": "AFX1SFM6Z0Gk",
        "outputId": "f64cffc5-2ee3-4f83-b744-ca21b325301e"
      },
      "execution_count": 3,
      "outputs": [
        {
          "output_type": "stream",
          "name": "stdout",
          "text": [
            "tensor([True])\n",
            "tensor([True])\n"
          ]
        }
      ]
    },
    {
      "cell_type": "markdown",
      "source": [
        "Indeed, if $L = 3a^3 - b^2$, then $\\frac{\\partial L}{\\partial a} = 9a^2$ and\n",
        "$\\frac{\\partial L}{\\partial b} = -2b$."
      ],
      "metadata": {
        "id": "1BbZ3du9gYVx"
      }
    },
    {
      "cell_type": "markdown",
      "source": [
        "## Input Pipeline"
      ],
      "metadata": {
        "id": "2WzhhNOifOLF"
      }
    },
    {
      "cell_type": "markdown",
      "source": [
        "PyTorch's modules require the input tensors to be `torch.tensor` objects. It is\n",
        "possible to cast NumPy arrays or lists to `torch.tensor` tensors."
      ],
      "metadata": {
        "id": "_6C-5mzNfUfn"
      }
    },
    {
      "cell_type": "code",
      "source": [
        "# Create a numpy array.\n",
        "x = np.array([[1, 2], [3, 4]])\n",
        "\n",
        "# Convert the numpy array to a torch tensor.\n",
        "y = torch.from_numpy(x)\n",
        "\n",
        "# Convert the torch tensor to a numpy array.\n",
        "z = y.numpy()\n",
        "\n",
        "# Print the vectors.\n",
        "print(type(x))\n",
        "print(type(y))\n",
        "print(type(z))"
      ],
      "metadata": {
        "colab": {
          "base_uri": "https://localhost:8080/"
        },
        "id": "dsFXVCWFbACq",
        "outputId": "d70a1e35-01e8-4844-d796-04c6c9a0bc64"
      },
      "execution_count": 4,
      "outputs": [
        {
          "output_type": "stream",
          "name": "stdout",
          "text": [
            "<class 'numpy.ndarray'>\n",
            "<class 'torch.Tensor'>\n",
            "<class 'numpy.ndarray'>\n"
          ]
        }
      ]
    },
    {
      "cell_type": "markdown",
      "source": [
        "PyTorch provides two data primitives: `torch.utils.data.DataLoader` and `torch.utils.data.Dataset` that allow you to use pre-loaded datasets as well as your own data. `Dataset` stores the samples and their corresponding labels, and `DataLoader` wraps an iterable around the `Dataset` to enable easy access to the samples."
      ],
      "metadata": {
        "id": "PgOtQcvff_uF"
      }
    },
    {
      "cell_type": "code",
      "source": [
        "# Download and construct CIFAR-10 dataset.\n",
        "train_dataset = torchvision.datasets.CIFAR10(root='.',\n",
        "                                             train=True,\n",
        "                                             transform=transforms.ToTensor(),\n",
        "                                             download=True)\n",
        "\n",
        "# Data loader (this provides queues and threads in a very simple way).\n",
        "train_loader = torch.utils.data.DataLoader(dataset=train_dataset,\n",
        "                                           batch_size=64,\n",
        "                                           shuffle=True)\n",
        "\n",
        "# Actual usage of the data loader is as below.\n",
        "for i, (images, labels) in enumerate(train_loader):\n",
        "    print(f'batch {i+1:03d}: images {images.shape}, labels {labels.shape}')\n",
        "    # TODO\n",
        "    # Training code goes here."
      ],
      "metadata": {
        "colab": {
          "base_uri": "https://localhost:8080/"
        },
        "id": "Qaq37uXLf9cn",
        "outputId": "195d100a-c0ee-4de8-9317-f7a1ec7f9e3d"
      },
      "execution_count": 5,
      "outputs": [
        {
          "output_type": "stream",
          "name": "stdout",
          "text": [
            "Downloading https://www.cs.toronto.edu/~kriz/cifar-10-python.tar.gz to ./cifar-10-python.tar.gz\n"
          ]
        },
        {
          "output_type": "stream",
          "name": "stderr",
          "text": [
            "100%|██████████| 170498071/170498071 [00:03<00:00, 48207713.41it/s]\n"
          ]
        },
        {
          "output_type": "stream",
          "name": "stdout",
          "text": [
            "Extracting ./cifar-10-python.tar.gz to .\n",
            "batch 001: images torch.Size([64, 3, 32, 32]), labels torch.Size([64])\n",
            "batch 002: images torch.Size([64, 3, 32, 32]), labels torch.Size([64])\n",
            "batch 003: images torch.Size([64, 3, 32, 32]), labels torch.Size([64])\n",
            "batch 004: images torch.Size([64, 3, 32, 32]), labels torch.Size([64])\n",
            "batch 005: images torch.Size([64, 3, 32, 32]), labels torch.Size([64])\n",
            "batch 006: images torch.Size([64, 3, 32, 32]), labels torch.Size([64])\n",
            "batch 007: images torch.Size([64, 3, 32, 32]), labels torch.Size([64])\n",
            "batch 008: images torch.Size([64, 3, 32, 32]), labels torch.Size([64])\n",
            "batch 009: images torch.Size([64, 3, 32, 32]), labels torch.Size([64])\n",
            "batch 010: images torch.Size([64, 3, 32, 32]), labels torch.Size([64])\n",
            "batch 011: images torch.Size([64, 3, 32, 32]), labels torch.Size([64])\n",
            "batch 012: images torch.Size([64, 3, 32, 32]), labels torch.Size([64])\n",
            "batch 013: images torch.Size([64, 3, 32, 32]), labels torch.Size([64])\n",
            "batch 014: images torch.Size([64, 3, 32, 32]), labels torch.Size([64])\n",
            "batch 015: images torch.Size([64, 3, 32, 32]), labels torch.Size([64])\n",
            "batch 016: images torch.Size([64, 3, 32, 32]), labels torch.Size([64])\n",
            "batch 017: images torch.Size([64, 3, 32, 32]), labels torch.Size([64])\n",
            "batch 018: images torch.Size([64, 3, 32, 32]), labels torch.Size([64])\n",
            "batch 019: images torch.Size([64, 3, 32, 32]), labels torch.Size([64])\n",
            "batch 020: images torch.Size([64, 3, 32, 32]), labels torch.Size([64])\n",
            "batch 021: images torch.Size([64, 3, 32, 32]), labels torch.Size([64])\n",
            "batch 022: images torch.Size([64, 3, 32, 32]), labels torch.Size([64])\n",
            "batch 023: images torch.Size([64, 3, 32, 32]), labels torch.Size([64])\n",
            "batch 024: images torch.Size([64, 3, 32, 32]), labels torch.Size([64])\n",
            "batch 025: images torch.Size([64, 3, 32, 32]), labels torch.Size([64])\n",
            "batch 026: images torch.Size([64, 3, 32, 32]), labels torch.Size([64])\n",
            "batch 027: images torch.Size([64, 3, 32, 32]), labels torch.Size([64])\n",
            "batch 028: images torch.Size([64, 3, 32, 32]), labels torch.Size([64])\n",
            "batch 029: images torch.Size([64, 3, 32, 32]), labels torch.Size([64])\n",
            "batch 030: images torch.Size([64, 3, 32, 32]), labels torch.Size([64])\n",
            "batch 031: images torch.Size([64, 3, 32, 32]), labels torch.Size([64])\n",
            "batch 032: images torch.Size([64, 3, 32, 32]), labels torch.Size([64])\n",
            "batch 033: images torch.Size([64, 3, 32, 32]), labels torch.Size([64])\n",
            "batch 034: images torch.Size([64, 3, 32, 32]), labels torch.Size([64])\n",
            "batch 035: images torch.Size([64, 3, 32, 32]), labels torch.Size([64])\n",
            "batch 036: images torch.Size([64, 3, 32, 32]), labels torch.Size([64])\n",
            "batch 037: images torch.Size([64, 3, 32, 32]), labels torch.Size([64])\n",
            "batch 038: images torch.Size([64, 3, 32, 32]), labels torch.Size([64])\n",
            "batch 039: images torch.Size([64, 3, 32, 32]), labels torch.Size([64])\n",
            "batch 040: images torch.Size([64, 3, 32, 32]), labels torch.Size([64])\n",
            "batch 041: images torch.Size([64, 3, 32, 32]), labels torch.Size([64])\n",
            "batch 042: images torch.Size([64, 3, 32, 32]), labels torch.Size([64])\n",
            "batch 043: images torch.Size([64, 3, 32, 32]), labels torch.Size([64])\n",
            "batch 044: images torch.Size([64, 3, 32, 32]), labels torch.Size([64])\n",
            "batch 045: images torch.Size([64, 3, 32, 32]), labels torch.Size([64])\n",
            "batch 046: images torch.Size([64, 3, 32, 32]), labels torch.Size([64])\n",
            "batch 047: images torch.Size([64, 3, 32, 32]), labels torch.Size([64])\n",
            "batch 048: images torch.Size([64, 3, 32, 32]), labels torch.Size([64])\n",
            "batch 049: images torch.Size([64, 3, 32, 32]), labels torch.Size([64])\n",
            "batch 050: images torch.Size([64, 3, 32, 32]), labels torch.Size([64])\n",
            "batch 051: images torch.Size([64, 3, 32, 32]), labels torch.Size([64])\n",
            "batch 052: images torch.Size([64, 3, 32, 32]), labels torch.Size([64])\n",
            "batch 053: images torch.Size([64, 3, 32, 32]), labels torch.Size([64])\n",
            "batch 054: images torch.Size([64, 3, 32, 32]), labels torch.Size([64])\n",
            "batch 055: images torch.Size([64, 3, 32, 32]), labels torch.Size([64])\n",
            "batch 056: images torch.Size([64, 3, 32, 32]), labels torch.Size([64])\n",
            "batch 057: images torch.Size([64, 3, 32, 32]), labels torch.Size([64])\n",
            "batch 058: images torch.Size([64, 3, 32, 32]), labels torch.Size([64])\n",
            "batch 059: images torch.Size([64, 3, 32, 32]), labels torch.Size([64])\n",
            "batch 060: images torch.Size([64, 3, 32, 32]), labels torch.Size([64])\n",
            "batch 061: images torch.Size([64, 3, 32, 32]), labels torch.Size([64])\n",
            "batch 062: images torch.Size([64, 3, 32, 32]), labels torch.Size([64])\n",
            "batch 063: images torch.Size([64, 3, 32, 32]), labels torch.Size([64])\n",
            "batch 064: images torch.Size([64, 3, 32, 32]), labels torch.Size([64])\n",
            "batch 065: images torch.Size([64, 3, 32, 32]), labels torch.Size([64])\n",
            "batch 066: images torch.Size([64, 3, 32, 32]), labels torch.Size([64])\n",
            "batch 067: images torch.Size([64, 3, 32, 32]), labels torch.Size([64])\n",
            "batch 068: images torch.Size([64, 3, 32, 32]), labels torch.Size([64])\n",
            "batch 069: images torch.Size([64, 3, 32, 32]), labels torch.Size([64])\n",
            "batch 070: images torch.Size([64, 3, 32, 32]), labels torch.Size([64])\n",
            "batch 071: images torch.Size([64, 3, 32, 32]), labels torch.Size([64])\n",
            "batch 072: images torch.Size([64, 3, 32, 32]), labels torch.Size([64])\n",
            "batch 073: images torch.Size([64, 3, 32, 32]), labels torch.Size([64])\n",
            "batch 074: images torch.Size([64, 3, 32, 32]), labels torch.Size([64])\n",
            "batch 075: images torch.Size([64, 3, 32, 32]), labels torch.Size([64])\n",
            "batch 076: images torch.Size([64, 3, 32, 32]), labels torch.Size([64])\n",
            "batch 077: images torch.Size([64, 3, 32, 32]), labels torch.Size([64])\n",
            "batch 078: images torch.Size([64, 3, 32, 32]), labels torch.Size([64])\n",
            "batch 079: images torch.Size([64, 3, 32, 32]), labels torch.Size([64])\n",
            "batch 080: images torch.Size([64, 3, 32, 32]), labels torch.Size([64])\n",
            "batch 081: images torch.Size([64, 3, 32, 32]), labels torch.Size([64])\n",
            "batch 082: images torch.Size([64, 3, 32, 32]), labels torch.Size([64])\n",
            "batch 083: images torch.Size([64, 3, 32, 32]), labels torch.Size([64])\n",
            "batch 084: images torch.Size([64, 3, 32, 32]), labels torch.Size([64])\n",
            "batch 085: images torch.Size([64, 3, 32, 32]), labels torch.Size([64])\n",
            "batch 086: images torch.Size([64, 3, 32, 32]), labels torch.Size([64])\n",
            "batch 087: images torch.Size([64, 3, 32, 32]), labels torch.Size([64])\n",
            "batch 088: images torch.Size([64, 3, 32, 32]), labels torch.Size([64])\n",
            "batch 089: images torch.Size([64, 3, 32, 32]), labels torch.Size([64])\n",
            "batch 090: images torch.Size([64, 3, 32, 32]), labels torch.Size([64])\n",
            "batch 091: images torch.Size([64, 3, 32, 32]), labels torch.Size([64])\n",
            "batch 092: images torch.Size([64, 3, 32, 32]), labels torch.Size([64])\n",
            "batch 093: images torch.Size([64, 3, 32, 32]), labels torch.Size([64])\n",
            "batch 094: images torch.Size([64, 3, 32, 32]), labels torch.Size([64])\n",
            "batch 095: images torch.Size([64, 3, 32, 32]), labels torch.Size([64])\n",
            "batch 096: images torch.Size([64, 3, 32, 32]), labels torch.Size([64])\n",
            "batch 097: images torch.Size([64, 3, 32, 32]), labels torch.Size([64])\n",
            "batch 098: images torch.Size([64, 3, 32, 32]), labels torch.Size([64])\n",
            "batch 099: images torch.Size([64, 3, 32, 32]), labels torch.Size([64])\n",
            "batch 100: images torch.Size([64, 3, 32, 32]), labels torch.Size([64])\n",
            "batch 101: images torch.Size([64, 3, 32, 32]), labels torch.Size([64])\n",
            "batch 102: images torch.Size([64, 3, 32, 32]), labels torch.Size([64])\n",
            "batch 103: images torch.Size([64, 3, 32, 32]), labels torch.Size([64])\n",
            "batch 104: images torch.Size([64, 3, 32, 32]), labels torch.Size([64])\n",
            "batch 105: images torch.Size([64, 3, 32, 32]), labels torch.Size([64])\n",
            "batch 106: images torch.Size([64, 3, 32, 32]), labels torch.Size([64])\n",
            "batch 107: images torch.Size([64, 3, 32, 32]), labels torch.Size([64])\n",
            "batch 108: images torch.Size([64, 3, 32, 32]), labels torch.Size([64])\n",
            "batch 109: images torch.Size([64, 3, 32, 32]), labels torch.Size([64])\n",
            "batch 110: images torch.Size([64, 3, 32, 32]), labels torch.Size([64])\n",
            "batch 111: images torch.Size([64, 3, 32, 32]), labels torch.Size([64])\n",
            "batch 112: images torch.Size([64, 3, 32, 32]), labels torch.Size([64])\n",
            "batch 113: images torch.Size([64, 3, 32, 32]), labels torch.Size([64])\n",
            "batch 114: images torch.Size([64, 3, 32, 32]), labels torch.Size([64])\n",
            "batch 115: images torch.Size([64, 3, 32, 32]), labels torch.Size([64])\n",
            "batch 116: images torch.Size([64, 3, 32, 32]), labels torch.Size([64])\n",
            "batch 117: images torch.Size([64, 3, 32, 32]), labels torch.Size([64])\n",
            "batch 118: images torch.Size([64, 3, 32, 32]), labels torch.Size([64])\n",
            "batch 119: images torch.Size([64, 3, 32, 32]), labels torch.Size([64])\n",
            "batch 120: images torch.Size([64, 3, 32, 32]), labels torch.Size([64])\n",
            "batch 121: images torch.Size([64, 3, 32, 32]), labels torch.Size([64])\n",
            "batch 122: images torch.Size([64, 3, 32, 32]), labels torch.Size([64])\n",
            "batch 123: images torch.Size([64, 3, 32, 32]), labels torch.Size([64])\n",
            "batch 124: images torch.Size([64, 3, 32, 32]), labels torch.Size([64])\n",
            "batch 125: images torch.Size([64, 3, 32, 32]), labels torch.Size([64])\n",
            "batch 126: images torch.Size([64, 3, 32, 32]), labels torch.Size([64])\n",
            "batch 127: images torch.Size([64, 3, 32, 32]), labels torch.Size([64])\n",
            "batch 128: images torch.Size([64, 3, 32, 32]), labels torch.Size([64])\n",
            "batch 129: images torch.Size([64, 3, 32, 32]), labels torch.Size([64])\n",
            "batch 130: images torch.Size([64, 3, 32, 32]), labels torch.Size([64])\n",
            "batch 131: images torch.Size([64, 3, 32, 32]), labels torch.Size([64])\n",
            "batch 132: images torch.Size([64, 3, 32, 32]), labels torch.Size([64])\n",
            "batch 133: images torch.Size([64, 3, 32, 32]), labels torch.Size([64])\n",
            "batch 134: images torch.Size([64, 3, 32, 32]), labels torch.Size([64])\n",
            "batch 135: images torch.Size([64, 3, 32, 32]), labels torch.Size([64])\n",
            "batch 136: images torch.Size([64, 3, 32, 32]), labels torch.Size([64])\n",
            "batch 137: images torch.Size([64, 3, 32, 32]), labels torch.Size([64])\n",
            "batch 138: images torch.Size([64, 3, 32, 32]), labels torch.Size([64])\n",
            "batch 139: images torch.Size([64, 3, 32, 32]), labels torch.Size([64])\n",
            "batch 140: images torch.Size([64, 3, 32, 32]), labels torch.Size([64])\n",
            "batch 141: images torch.Size([64, 3, 32, 32]), labels torch.Size([64])\n",
            "batch 142: images torch.Size([64, 3, 32, 32]), labels torch.Size([64])\n",
            "batch 143: images torch.Size([64, 3, 32, 32]), labels torch.Size([64])\n",
            "batch 144: images torch.Size([64, 3, 32, 32]), labels torch.Size([64])\n",
            "batch 145: images torch.Size([64, 3, 32, 32]), labels torch.Size([64])\n",
            "batch 146: images torch.Size([64, 3, 32, 32]), labels torch.Size([64])\n",
            "batch 147: images torch.Size([64, 3, 32, 32]), labels torch.Size([64])\n",
            "batch 148: images torch.Size([64, 3, 32, 32]), labels torch.Size([64])\n",
            "batch 149: images torch.Size([64, 3, 32, 32]), labels torch.Size([64])\n",
            "batch 150: images torch.Size([64, 3, 32, 32]), labels torch.Size([64])\n",
            "batch 151: images torch.Size([64, 3, 32, 32]), labels torch.Size([64])\n",
            "batch 152: images torch.Size([64, 3, 32, 32]), labels torch.Size([64])\n",
            "batch 153: images torch.Size([64, 3, 32, 32]), labels torch.Size([64])\n",
            "batch 154: images torch.Size([64, 3, 32, 32]), labels torch.Size([64])\n",
            "batch 155: images torch.Size([64, 3, 32, 32]), labels torch.Size([64])\n",
            "batch 156: images torch.Size([64, 3, 32, 32]), labels torch.Size([64])\n",
            "batch 157: images torch.Size([64, 3, 32, 32]), labels torch.Size([64])\n",
            "batch 158: images torch.Size([64, 3, 32, 32]), labels torch.Size([64])\n",
            "batch 159: images torch.Size([64, 3, 32, 32]), labels torch.Size([64])\n",
            "batch 160: images torch.Size([64, 3, 32, 32]), labels torch.Size([64])\n",
            "batch 161: images torch.Size([64, 3, 32, 32]), labels torch.Size([64])\n",
            "batch 162: images torch.Size([64, 3, 32, 32]), labels torch.Size([64])\n",
            "batch 163: images torch.Size([64, 3, 32, 32]), labels torch.Size([64])\n",
            "batch 164: images torch.Size([64, 3, 32, 32]), labels torch.Size([64])\n",
            "batch 165: images torch.Size([64, 3, 32, 32]), labels torch.Size([64])\n",
            "batch 166: images torch.Size([64, 3, 32, 32]), labels torch.Size([64])\n",
            "batch 167: images torch.Size([64, 3, 32, 32]), labels torch.Size([64])\n",
            "batch 168: images torch.Size([64, 3, 32, 32]), labels torch.Size([64])\n",
            "batch 169: images torch.Size([64, 3, 32, 32]), labels torch.Size([64])\n",
            "batch 170: images torch.Size([64, 3, 32, 32]), labels torch.Size([64])\n",
            "batch 171: images torch.Size([64, 3, 32, 32]), labels torch.Size([64])\n",
            "batch 172: images torch.Size([64, 3, 32, 32]), labels torch.Size([64])\n",
            "batch 173: images torch.Size([64, 3, 32, 32]), labels torch.Size([64])\n",
            "batch 174: images torch.Size([64, 3, 32, 32]), labels torch.Size([64])\n",
            "batch 175: images torch.Size([64, 3, 32, 32]), labels torch.Size([64])\n",
            "batch 176: images torch.Size([64, 3, 32, 32]), labels torch.Size([64])\n",
            "batch 177: images torch.Size([64, 3, 32, 32]), labels torch.Size([64])\n",
            "batch 178: images torch.Size([64, 3, 32, 32]), labels torch.Size([64])\n",
            "batch 179: images torch.Size([64, 3, 32, 32]), labels torch.Size([64])\n",
            "batch 180: images torch.Size([64, 3, 32, 32]), labels torch.Size([64])\n",
            "batch 181: images torch.Size([64, 3, 32, 32]), labels torch.Size([64])\n",
            "batch 182: images torch.Size([64, 3, 32, 32]), labels torch.Size([64])\n",
            "batch 183: images torch.Size([64, 3, 32, 32]), labels torch.Size([64])\n",
            "batch 184: images torch.Size([64, 3, 32, 32]), labels torch.Size([64])\n",
            "batch 185: images torch.Size([64, 3, 32, 32]), labels torch.Size([64])\n",
            "batch 186: images torch.Size([64, 3, 32, 32]), labels torch.Size([64])\n",
            "batch 187: images torch.Size([64, 3, 32, 32]), labels torch.Size([64])\n",
            "batch 188: images torch.Size([64, 3, 32, 32]), labels torch.Size([64])\n",
            "batch 189: images torch.Size([64, 3, 32, 32]), labels torch.Size([64])\n",
            "batch 190: images torch.Size([64, 3, 32, 32]), labels torch.Size([64])\n",
            "batch 191: images torch.Size([64, 3, 32, 32]), labels torch.Size([64])\n",
            "batch 192: images torch.Size([64, 3, 32, 32]), labels torch.Size([64])\n",
            "batch 193: images torch.Size([64, 3, 32, 32]), labels torch.Size([64])\n",
            "batch 194: images torch.Size([64, 3, 32, 32]), labels torch.Size([64])\n",
            "batch 195: images torch.Size([64, 3, 32, 32]), labels torch.Size([64])\n",
            "batch 196: images torch.Size([64, 3, 32, 32]), labels torch.Size([64])\n",
            "batch 197: images torch.Size([64, 3, 32, 32]), labels torch.Size([64])\n",
            "batch 198: images torch.Size([64, 3, 32, 32]), labels torch.Size([64])\n",
            "batch 199: images torch.Size([64, 3, 32, 32]), labels torch.Size([64])\n",
            "batch 200: images torch.Size([64, 3, 32, 32]), labels torch.Size([64])\n",
            "batch 201: images torch.Size([64, 3, 32, 32]), labels torch.Size([64])\n",
            "batch 202: images torch.Size([64, 3, 32, 32]), labels torch.Size([64])\n",
            "batch 203: images torch.Size([64, 3, 32, 32]), labels torch.Size([64])\n",
            "batch 204: images torch.Size([64, 3, 32, 32]), labels torch.Size([64])\n",
            "batch 205: images torch.Size([64, 3, 32, 32]), labels torch.Size([64])\n",
            "batch 206: images torch.Size([64, 3, 32, 32]), labels torch.Size([64])\n",
            "batch 207: images torch.Size([64, 3, 32, 32]), labels torch.Size([64])\n",
            "batch 208: images torch.Size([64, 3, 32, 32]), labels torch.Size([64])\n",
            "batch 209: images torch.Size([64, 3, 32, 32]), labels torch.Size([64])\n",
            "batch 210: images torch.Size([64, 3, 32, 32]), labels torch.Size([64])\n",
            "batch 211: images torch.Size([64, 3, 32, 32]), labels torch.Size([64])\n",
            "batch 212: images torch.Size([64, 3, 32, 32]), labels torch.Size([64])\n",
            "batch 213: images torch.Size([64, 3, 32, 32]), labels torch.Size([64])\n",
            "batch 214: images torch.Size([64, 3, 32, 32]), labels torch.Size([64])\n",
            "batch 215: images torch.Size([64, 3, 32, 32]), labels torch.Size([64])\n",
            "batch 216: images torch.Size([64, 3, 32, 32]), labels torch.Size([64])\n",
            "batch 217: images torch.Size([64, 3, 32, 32]), labels torch.Size([64])\n",
            "batch 218: images torch.Size([64, 3, 32, 32]), labels torch.Size([64])\n",
            "batch 219: images torch.Size([64, 3, 32, 32]), labels torch.Size([64])\n",
            "batch 220: images torch.Size([64, 3, 32, 32]), labels torch.Size([64])\n",
            "batch 221: images torch.Size([64, 3, 32, 32]), labels torch.Size([64])\n",
            "batch 222: images torch.Size([64, 3, 32, 32]), labels torch.Size([64])\n",
            "batch 223: images torch.Size([64, 3, 32, 32]), labels torch.Size([64])\n",
            "batch 224: images torch.Size([64, 3, 32, 32]), labels torch.Size([64])\n",
            "batch 225: images torch.Size([64, 3, 32, 32]), labels torch.Size([64])\n",
            "batch 226: images torch.Size([64, 3, 32, 32]), labels torch.Size([64])\n",
            "batch 227: images torch.Size([64, 3, 32, 32]), labels torch.Size([64])\n",
            "batch 228: images torch.Size([64, 3, 32, 32]), labels torch.Size([64])\n",
            "batch 229: images torch.Size([64, 3, 32, 32]), labels torch.Size([64])\n",
            "batch 230: images torch.Size([64, 3, 32, 32]), labels torch.Size([64])\n",
            "batch 231: images torch.Size([64, 3, 32, 32]), labels torch.Size([64])\n",
            "batch 232: images torch.Size([64, 3, 32, 32]), labels torch.Size([64])\n",
            "batch 233: images torch.Size([64, 3, 32, 32]), labels torch.Size([64])\n",
            "batch 234: images torch.Size([64, 3, 32, 32]), labels torch.Size([64])\n",
            "batch 235: images torch.Size([64, 3, 32, 32]), labels torch.Size([64])\n",
            "batch 236: images torch.Size([64, 3, 32, 32]), labels torch.Size([64])\n",
            "batch 237: images torch.Size([64, 3, 32, 32]), labels torch.Size([64])\n",
            "batch 238: images torch.Size([64, 3, 32, 32]), labels torch.Size([64])\n",
            "batch 239: images torch.Size([64, 3, 32, 32]), labels torch.Size([64])\n",
            "batch 240: images torch.Size([64, 3, 32, 32]), labels torch.Size([64])\n",
            "batch 241: images torch.Size([64, 3, 32, 32]), labels torch.Size([64])\n",
            "batch 242: images torch.Size([64, 3, 32, 32]), labels torch.Size([64])\n",
            "batch 243: images torch.Size([64, 3, 32, 32]), labels torch.Size([64])\n",
            "batch 244: images torch.Size([64, 3, 32, 32]), labels torch.Size([64])\n",
            "batch 245: images torch.Size([64, 3, 32, 32]), labels torch.Size([64])\n",
            "batch 246: images torch.Size([64, 3, 32, 32]), labels torch.Size([64])\n",
            "batch 247: images torch.Size([64, 3, 32, 32]), labels torch.Size([64])\n",
            "batch 248: images torch.Size([64, 3, 32, 32]), labels torch.Size([64])\n",
            "batch 249: images torch.Size([64, 3, 32, 32]), labels torch.Size([64])\n",
            "batch 250: images torch.Size([64, 3, 32, 32]), labels torch.Size([64])\n",
            "batch 251: images torch.Size([64, 3, 32, 32]), labels torch.Size([64])\n",
            "batch 252: images torch.Size([64, 3, 32, 32]), labels torch.Size([64])\n",
            "batch 253: images torch.Size([64, 3, 32, 32]), labels torch.Size([64])\n",
            "batch 254: images torch.Size([64, 3, 32, 32]), labels torch.Size([64])\n",
            "batch 255: images torch.Size([64, 3, 32, 32]), labels torch.Size([64])\n",
            "batch 256: images torch.Size([64, 3, 32, 32]), labels torch.Size([64])\n",
            "batch 257: images torch.Size([64, 3, 32, 32]), labels torch.Size([64])\n",
            "batch 258: images torch.Size([64, 3, 32, 32]), labels torch.Size([64])\n",
            "batch 259: images torch.Size([64, 3, 32, 32]), labels torch.Size([64])\n",
            "batch 260: images torch.Size([64, 3, 32, 32]), labels torch.Size([64])\n",
            "batch 261: images torch.Size([64, 3, 32, 32]), labels torch.Size([64])\n",
            "batch 262: images torch.Size([64, 3, 32, 32]), labels torch.Size([64])\n",
            "batch 263: images torch.Size([64, 3, 32, 32]), labels torch.Size([64])\n",
            "batch 264: images torch.Size([64, 3, 32, 32]), labels torch.Size([64])\n",
            "batch 265: images torch.Size([64, 3, 32, 32]), labels torch.Size([64])\n",
            "batch 266: images torch.Size([64, 3, 32, 32]), labels torch.Size([64])\n",
            "batch 267: images torch.Size([64, 3, 32, 32]), labels torch.Size([64])\n",
            "batch 268: images torch.Size([64, 3, 32, 32]), labels torch.Size([64])\n",
            "batch 269: images torch.Size([64, 3, 32, 32]), labels torch.Size([64])\n",
            "batch 270: images torch.Size([64, 3, 32, 32]), labels torch.Size([64])\n",
            "batch 271: images torch.Size([64, 3, 32, 32]), labels torch.Size([64])\n",
            "batch 272: images torch.Size([64, 3, 32, 32]), labels torch.Size([64])\n",
            "batch 273: images torch.Size([64, 3, 32, 32]), labels torch.Size([64])\n",
            "batch 274: images torch.Size([64, 3, 32, 32]), labels torch.Size([64])\n",
            "batch 275: images torch.Size([64, 3, 32, 32]), labels torch.Size([64])\n",
            "batch 276: images torch.Size([64, 3, 32, 32]), labels torch.Size([64])\n",
            "batch 277: images torch.Size([64, 3, 32, 32]), labels torch.Size([64])\n",
            "batch 278: images torch.Size([64, 3, 32, 32]), labels torch.Size([64])\n",
            "batch 279: images torch.Size([64, 3, 32, 32]), labels torch.Size([64])\n",
            "batch 280: images torch.Size([64, 3, 32, 32]), labels torch.Size([64])\n",
            "batch 281: images torch.Size([64, 3, 32, 32]), labels torch.Size([64])\n",
            "batch 282: images torch.Size([64, 3, 32, 32]), labels torch.Size([64])\n",
            "batch 283: images torch.Size([64, 3, 32, 32]), labels torch.Size([64])\n",
            "batch 284: images torch.Size([64, 3, 32, 32]), labels torch.Size([64])\n",
            "batch 285: images torch.Size([64, 3, 32, 32]), labels torch.Size([64])\n",
            "batch 286: images torch.Size([64, 3, 32, 32]), labels torch.Size([64])\n",
            "batch 287: images torch.Size([64, 3, 32, 32]), labels torch.Size([64])\n",
            "batch 288: images torch.Size([64, 3, 32, 32]), labels torch.Size([64])\n",
            "batch 289: images torch.Size([64, 3, 32, 32]), labels torch.Size([64])\n",
            "batch 290: images torch.Size([64, 3, 32, 32]), labels torch.Size([64])\n",
            "batch 291: images torch.Size([64, 3, 32, 32]), labels torch.Size([64])\n",
            "batch 292: images torch.Size([64, 3, 32, 32]), labels torch.Size([64])\n",
            "batch 293: images torch.Size([64, 3, 32, 32]), labels torch.Size([64])\n",
            "batch 294: images torch.Size([64, 3, 32, 32]), labels torch.Size([64])\n",
            "batch 295: images torch.Size([64, 3, 32, 32]), labels torch.Size([64])\n",
            "batch 296: images torch.Size([64, 3, 32, 32]), labels torch.Size([64])\n",
            "batch 297: images torch.Size([64, 3, 32, 32]), labels torch.Size([64])\n",
            "batch 298: images torch.Size([64, 3, 32, 32]), labels torch.Size([64])\n",
            "batch 299: images torch.Size([64, 3, 32, 32]), labels torch.Size([64])\n",
            "batch 300: images torch.Size([64, 3, 32, 32]), labels torch.Size([64])\n",
            "batch 301: images torch.Size([64, 3, 32, 32]), labels torch.Size([64])\n",
            "batch 302: images torch.Size([64, 3, 32, 32]), labels torch.Size([64])\n",
            "batch 303: images torch.Size([64, 3, 32, 32]), labels torch.Size([64])\n",
            "batch 304: images torch.Size([64, 3, 32, 32]), labels torch.Size([64])\n",
            "batch 305: images torch.Size([64, 3, 32, 32]), labels torch.Size([64])\n",
            "batch 306: images torch.Size([64, 3, 32, 32]), labels torch.Size([64])\n",
            "batch 307: images torch.Size([64, 3, 32, 32]), labels torch.Size([64])\n",
            "batch 308: images torch.Size([64, 3, 32, 32]), labels torch.Size([64])\n",
            "batch 309: images torch.Size([64, 3, 32, 32]), labels torch.Size([64])\n",
            "batch 310: images torch.Size([64, 3, 32, 32]), labels torch.Size([64])\n",
            "batch 311: images torch.Size([64, 3, 32, 32]), labels torch.Size([64])\n",
            "batch 312: images torch.Size([64, 3, 32, 32]), labels torch.Size([64])\n",
            "batch 313: images torch.Size([64, 3, 32, 32]), labels torch.Size([64])\n",
            "batch 314: images torch.Size([64, 3, 32, 32]), labels torch.Size([64])\n",
            "batch 315: images torch.Size([64, 3, 32, 32]), labels torch.Size([64])\n",
            "batch 316: images torch.Size([64, 3, 32, 32]), labels torch.Size([64])\n",
            "batch 317: images torch.Size([64, 3, 32, 32]), labels torch.Size([64])\n",
            "batch 318: images torch.Size([64, 3, 32, 32]), labels torch.Size([64])\n",
            "batch 319: images torch.Size([64, 3, 32, 32]), labels torch.Size([64])\n",
            "batch 320: images torch.Size([64, 3, 32, 32]), labels torch.Size([64])\n",
            "batch 321: images torch.Size([64, 3, 32, 32]), labels torch.Size([64])\n",
            "batch 322: images torch.Size([64, 3, 32, 32]), labels torch.Size([64])\n",
            "batch 323: images torch.Size([64, 3, 32, 32]), labels torch.Size([64])\n",
            "batch 324: images torch.Size([64, 3, 32, 32]), labels torch.Size([64])\n",
            "batch 325: images torch.Size([64, 3, 32, 32]), labels torch.Size([64])\n",
            "batch 326: images torch.Size([64, 3, 32, 32]), labels torch.Size([64])\n",
            "batch 327: images torch.Size([64, 3, 32, 32]), labels torch.Size([64])\n",
            "batch 328: images torch.Size([64, 3, 32, 32]), labels torch.Size([64])\n",
            "batch 329: images torch.Size([64, 3, 32, 32]), labels torch.Size([64])\n",
            "batch 330: images torch.Size([64, 3, 32, 32]), labels torch.Size([64])\n",
            "batch 331: images torch.Size([64, 3, 32, 32]), labels torch.Size([64])\n",
            "batch 332: images torch.Size([64, 3, 32, 32]), labels torch.Size([64])\n",
            "batch 333: images torch.Size([64, 3, 32, 32]), labels torch.Size([64])\n",
            "batch 334: images torch.Size([64, 3, 32, 32]), labels torch.Size([64])\n",
            "batch 335: images torch.Size([64, 3, 32, 32]), labels torch.Size([64])\n",
            "batch 336: images torch.Size([64, 3, 32, 32]), labels torch.Size([64])\n",
            "batch 337: images torch.Size([64, 3, 32, 32]), labels torch.Size([64])\n",
            "batch 338: images torch.Size([64, 3, 32, 32]), labels torch.Size([64])\n",
            "batch 339: images torch.Size([64, 3, 32, 32]), labels torch.Size([64])\n",
            "batch 340: images torch.Size([64, 3, 32, 32]), labels torch.Size([64])\n",
            "batch 341: images torch.Size([64, 3, 32, 32]), labels torch.Size([64])\n",
            "batch 342: images torch.Size([64, 3, 32, 32]), labels torch.Size([64])\n",
            "batch 343: images torch.Size([64, 3, 32, 32]), labels torch.Size([64])\n",
            "batch 344: images torch.Size([64, 3, 32, 32]), labels torch.Size([64])\n",
            "batch 345: images torch.Size([64, 3, 32, 32]), labels torch.Size([64])\n",
            "batch 346: images torch.Size([64, 3, 32, 32]), labels torch.Size([64])\n",
            "batch 347: images torch.Size([64, 3, 32, 32]), labels torch.Size([64])\n",
            "batch 348: images torch.Size([64, 3, 32, 32]), labels torch.Size([64])\n",
            "batch 349: images torch.Size([64, 3, 32, 32]), labels torch.Size([64])\n",
            "batch 350: images torch.Size([64, 3, 32, 32]), labels torch.Size([64])\n",
            "batch 351: images torch.Size([64, 3, 32, 32]), labels torch.Size([64])\n",
            "batch 352: images torch.Size([64, 3, 32, 32]), labels torch.Size([64])\n",
            "batch 353: images torch.Size([64, 3, 32, 32]), labels torch.Size([64])\n",
            "batch 354: images torch.Size([64, 3, 32, 32]), labels torch.Size([64])\n",
            "batch 355: images torch.Size([64, 3, 32, 32]), labels torch.Size([64])\n",
            "batch 356: images torch.Size([64, 3, 32, 32]), labels torch.Size([64])\n",
            "batch 357: images torch.Size([64, 3, 32, 32]), labels torch.Size([64])\n",
            "batch 358: images torch.Size([64, 3, 32, 32]), labels torch.Size([64])\n",
            "batch 359: images torch.Size([64, 3, 32, 32]), labels torch.Size([64])\n",
            "batch 360: images torch.Size([64, 3, 32, 32]), labels torch.Size([64])\n",
            "batch 361: images torch.Size([64, 3, 32, 32]), labels torch.Size([64])\n",
            "batch 362: images torch.Size([64, 3, 32, 32]), labels torch.Size([64])\n",
            "batch 363: images torch.Size([64, 3, 32, 32]), labels torch.Size([64])\n",
            "batch 364: images torch.Size([64, 3, 32, 32]), labels torch.Size([64])\n",
            "batch 365: images torch.Size([64, 3, 32, 32]), labels torch.Size([64])\n",
            "batch 366: images torch.Size([64, 3, 32, 32]), labels torch.Size([64])\n",
            "batch 367: images torch.Size([64, 3, 32, 32]), labels torch.Size([64])\n",
            "batch 368: images torch.Size([64, 3, 32, 32]), labels torch.Size([64])\n",
            "batch 369: images torch.Size([64, 3, 32, 32]), labels torch.Size([64])\n",
            "batch 370: images torch.Size([64, 3, 32, 32]), labels torch.Size([64])\n",
            "batch 371: images torch.Size([64, 3, 32, 32]), labels torch.Size([64])\n",
            "batch 372: images torch.Size([64, 3, 32, 32]), labels torch.Size([64])\n",
            "batch 373: images torch.Size([64, 3, 32, 32]), labels torch.Size([64])\n",
            "batch 374: images torch.Size([64, 3, 32, 32]), labels torch.Size([64])\n",
            "batch 375: images torch.Size([64, 3, 32, 32]), labels torch.Size([64])\n",
            "batch 376: images torch.Size([64, 3, 32, 32]), labels torch.Size([64])\n",
            "batch 377: images torch.Size([64, 3, 32, 32]), labels torch.Size([64])\n",
            "batch 378: images torch.Size([64, 3, 32, 32]), labels torch.Size([64])\n",
            "batch 379: images torch.Size([64, 3, 32, 32]), labels torch.Size([64])\n",
            "batch 380: images torch.Size([64, 3, 32, 32]), labels torch.Size([64])\n",
            "batch 381: images torch.Size([64, 3, 32, 32]), labels torch.Size([64])\n",
            "batch 382: images torch.Size([64, 3, 32, 32]), labels torch.Size([64])\n",
            "batch 383: images torch.Size([64, 3, 32, 32]), labels torch.Size([64])\n",
            "batch 384: images torch.Size([64, 3, 32, 32]), labels torch.Size([64])\n",
            "batch 385: images torch.Size([64, 3, 32, 32]), labels torch.Size([64])\n",
            "batch 386: images torch.Size([64, 3, 32, 32]), labels torch.Size([64])\n",
            "batch 387: images torch.Size([64, 3, 32, 32]), labels torch.Size([64])\n",
            "batch 388: images torch.Size([64, 3, 32, 32]), labels torch.Size([64])\n",
            "batch 389: images torch.Size([64, 3, 32, 32]), labels torch.Size([64])\n",
            "batch 390: images torch.Size([64, 3, 32, 32]), labels torch.Size([64])\n",
            "batch 391: images torch.Size([64, 3, 32, 32]), labels torch.Size([64])\n",
            "batch 392: images torch.Size([64, 3, 32, 32]), labels torch.Size([64])\n",
            "batch 393: images torch.Size([64, 3, 32, 32]), labels torch.Size([64])\n",
            "batch 394: images torch.Size([64, 3, 32, 32]), labels torch.Size([64])\n",
            "batch 395: images torch.Size([64, 3, 32, 32]), labels torch.Size([64])\n",
            "batch 396: images torch.Size([64, 3, 32, 32]), labels torch.Size([64])\n",
            "batch 397: images torch.Size([64, 3, 32, 32]), labels torch.Size([64])\n",
            "batch 398: images torch.Size([64, 3, 32, 32]), labels torch.Size([64])\n",
            "batch 399: images torch.Size([64, 3, 32, 32]), labels torch.Size([64])\n",
            "batch 400: images torch.Size([64, 3, 32, 32]), labels torch.Size([64])\n",
            "batch 401: images torch.Size([64, 3, 32, 32]), labels torch.Size([64])\n",
            "batch 402: images torch.Size([64, 3, 32, 32]), labels torch.Size([64])\n",
            "batch 403: images torch.Size([64, 3, 32, 32]), labels torch.Size([64])\n",
            "batch 404: images torch.Size([64, 3, 32, 32]), labels torch.Size([64])\n",
            "batch 405: images torch.Size([64, 3, 32, 32]), labels torch.Size([64])\n",
            "batch 406: images torch.Size([64, 3, 32, 32]), labels torch.Size([64])\n",
            "batch 407: images torch.Size([64, 3, 32, 32]), labels torch.Size([64])\n",
            "batch 408: images torch.Size([64, 3, 32, 32]), labels torch.Size([64])\n",
            "batch 409: images torch.Size([64, 3, 32, 32]), labels torch.Size([64])\n",
            "batch 410: images torch.Size([64, 3, 32, 32]), labels torch.Size([64])\n",
            "batch 411: images torch.Size([64, 3, 32, 32]), labels torch.Size([64])\n",
            "batch 412: images torch.Size([64, 3, 32, 32]), labels torch.Size([64])\n",
            "batch 413: images torch.Size([64, 3, 32, 32]), labels torch.Size([64])\n",
            "batch 414: images torch.Size([64, 3, 32, 32]), labels torch.Size([64])\n",
            "batch 415: images torch.Size([64, 3, 32, 32]), labels torch.Size([64])\n",
            "batch 416: images torch.Size([64, 3, 32, 32]), labels torch.Size([64])\n",
            "batch 417: images torch.Size([64, 3, 32, 32]), labels torch.Size([64])\n",
            "batch 418: images torch.Size([64, 3, 32, 32]), labels torch.Size([64])\n",
            "batch 419: images torch.Size([64, 3, 32, 32]), labels torch.Size([64])\n",
            "batch 420: images torch.Size([64, 3, 32, 32]), labels torch.Size([64])\n",
            "batch 421: images torch.Size([64, 3, 32, 32]), labels torch.Size([64])\n",
            "batch 422: images torch.Size([64, 3, 32, 32]), labels torch.Size([64])\n",
            "batch 423: images torch.Size([64, 3, 32, 32]), labels torch.Size([64])\n",
            "batch 424: images torch.Size([64, 3, 32, 32]), labels torch.Size([64])\n",
            "batch 425: images torch.Size([64, 3, 32, 32]), labels torch.Size([64])\n",
            "batch 426: images torch.Size([64, 3, 32, 32]), labels torch.Size([64])\n",
            "batch 427: images torch.Size([64, 3, 32, 32]), labels torch.Size([64])\n",
            "batch 428: images torch.Size([64, 3, 32, 32]), labels torch.Size([64])\n",
            "batch 429: images torch.Size([64, 3, 32, 32]), labels torch.Size([64])\n",
            "batch 430: images torch.Size([64, 3, 32, 32]), labels torch.Size([64])\n",
            "batch 431: images torch.Size([64, 3, 32, 32]), labels torch.Size([64])\n",
            "batch 432: images torch.Size([64, 3, 32, 32]), labels torch.Size([64])\n",
            "batch 433: images torch.Size([64, 3, 32, 32]), labels torch.Size([64])\n",
            "batch 434: images torch.Size([64, 3, 32, 32]), labels torch.Size([64])\n",
            "batch 435: images torch.Size([64, 3, 32, 32]), labels torch.Size([64])\n",
            "batch 436: images torch.Size([64, 3, 32, 32]), labels torch.Size([64])\n",
            "batch 437: images torch.Size([64, 3, 32, 32]), labels torch.Size([64])\n",
            "batch 438: images torch.Size([64, 3, 32, 32]), labels torch.Size([64])\n",
            "batch 439: images torch.Size([64, 3, 32, 32]), labels torch.Size([64])\n",
            "batch 440: images torch.Size([64, 3, 32, 32]), labels torch.Size([64])\n",
            "batch 441: images torch.Size([64, 3, 32, 32]), labels torch.Size([64])\n",
            "batch 442: images torch.Size([64, 3, 32, 32]), labels torch.Size([64])\n",
            "batch 443: images torch.Size([64, 3, 32, 32]), labels torch.Size([64])\n",
            "batch 444: images torch.Size([64, 3, 32, 32]), labels torch.Size([64])\n",
            "batch 445: images torch.Size([64, 3, 32, 32]), labels torch.Size([64])\n",
            "batch 446: images torch.Size([64, 3, 32, 32]), labels torch.Size([64])\n",
            "batch 447: images torch.Size([64, 3, 32, 32]), labels torch.Size([64])\n",
            "batch 448: images torch.Size([64, 3, 32, 32]), labels torch.Size([64])\n",
            "batch 449: images torch.Size([64, 3, 32, 32]), labels torch.Size([64])\n",
            "batch 450: images torch.Size([64, 3, 32, 32]), labels torch.Size([64])\n",
            "batch 451: images torch.Size([64, 3, 32, 32]), labels torch.Size([64])\n",
            "batch 452: images torch.Size([64, 3, 32, 32]), labels torch.Size([64])\n",
            "batch 453: images torch.Size([64, 3, 32, 32]), labels torch.Size([64])\n",
            "batch 454: images torch.Size([64, 3, 32, 32]), labels torch.Size([64])\n",
            "batch 455: images torch.Size([64, 3, 32, 32]), labels torch.Size([64])\n",
            "batch 456: images torch.Size([64, 3, 32, 32]), labels torch.Size([64])\n",
            "batch 457: images torch.Size([64, 3, 32, 32]), labels torch.Size([64])\n",
            "batch 458: images torch.Size([64, 3, 32, 32]), labels torch.Size([64])\n",
            "batch 459: images torch.Size([64, 3, 32, 32]), labels torch.Size([64])\n",
            "batch 460: images torch.Size([64, 3, 32, 32]), labels torch.Size([64])\n",
            "batch 461: images torch.Size([64, 3, 32, 32]), labels torch.Size([64])\n",
            "batch 462: images torch.Size([64, 3, 32, 32]), labels torch.Size([64])\n",
            "batch 463: images torch.Size([64, 3, 32, 32]), labels torch.Size([64])\n",
            "batch 464: images torch.Size([64, 3, 32, 32]), labels torch.Size([64])\n",
            "batch 465: images torch.Size([64, 3, 32, 32]), labels torch.Size([64])\n",
            "batch 466: images torch.Size([64, 3, 32, 32]), labels torch.Size([64])\n",
            "batch 467: images torch.Size([64, 3, 32, 32]), labels torch.Size([64])\n",
            "batch 468: images torch.Size([64, 3, 32, 32]), labels torch.Size([64])\n",
            "batch 469: images torch.Size([64, 3, 32, 32]), labels torch.Size([64])\n",
            "batch 470: images torch.Size([64, 3, 32, 32]), labels torch.Size([64])\n",
            "batch 471: images torch.Size([64, 3, 32, 32]), labels torch.Size([64])\n",
            "batch 472: images torch.Size([64, 3, 32, 32]), labels torch.Size([64])\n",
            "batch 473: images torch.Size([64, 3, 32, 32]), labels torch.Size([64])\n",
            "batch 474: images torch.Size([64, 3, 32, 32]), labels torch.Size([64])\n",
            "batch 475: images torch.Size([64, 3, 32, 32]), labels torch.Size([64])\n",
            "batch 476: images torch.Size([64, 3, 32, 32]), labels torch.Size([64])\n",
            "batch 477: images torch.Size([64, 3, 32, 32]), labels torch.Size([64])\n",
            "batch 478: images torch.Size([64, 3, 32, 32]), labels torch.Size([64])\n",
            "batch 479: images torch.Size([64, 3, 32, 32]), labels torch.Size([64])\n",
            "batch 480: images torch.Size([64, 3, 32, 32]), labels torch.Size([64])\n",
            "batch 481: images torch.Size([64, 3, 32, 32]), labels torch.Size([64])\n",
            "batch 482: images torch.Size([64, 3, 32, 32]), labels torch.Size([64])\n",
            "batch 483: images torch.Size([64, 3, 32, 32]), labels torch.Size([64])\n",
            "batch 484: images torch.Size([64, 3, 32, 32]), labels torch.Size([64])\n",
            "batch 485: images torch.Size([64, 3, 32, 32]), labels torch.Size([64])\n",
            "batch 486: images torch.Size([64, 3, 32, 32]), labels torch.Size([64])\n",
            "batch 487: images torch.Size([64, 3, 32, 32]), labels torch.Size([64])\n",
            "batch 488: images torch.Size([64, 3, 32, 32]), labels torch.Size([64])\n",
            "batch 489: images torch.Size([64, 3, 32, 32]), labels torch.Size([64])\n",
            "batch 490: images torch.Size([64, 3, 32, 32]), labels torch.Size([64])\n",
            "batch 491: images torch.Size([64, 3, 32, 32]), labels torch.Size([64])\n",
            "batch 492: images torch.Size([64, 3, 32, 32]), labels torch.Size([64])\n",
            "batch 493: images torch.Size([64, 3, 32, 32]), labels torch.Size([64])\n",
            "batch 494: images torch.Size([64, 3, 32, 32]), labels torch.Size([64])\n",
            "batch 495: images torch.Size([64, 3, 32, 32]), labels torch.Size([64])\n",
            "batch 496: images torch.Size([64, 3, 32, 32]), labels torch.Size([64])\n",
            "batch 497: images torch.Size([64, 3, 32, 32]), labels torch.Size([64])\n",
            "batch 498: images torch.Size([64, 3, 32, 32]), labels torch.Size([64])\n",
            "batch 499: images torch.Size([64, 3, 32, 32]), labels torch.Size([64])\n",
            "batch 500: images torch.Size([64, 3, 32, 32]), labels torch.Size([64])\n",
            "batch 501: images torch.Size([64, 3, 32, 32]), labels torch.Size([64])\n",
            "batch 502: images torch.Size([64, 3, 32, 32]), labels torch.Size([64])\n",
            "batch 503: images torch.Size([64, 3, 32, 32]), labels torch.Size([64])\n",
            "batch 504: images torch.Size([64, 3, 32, 32]), labels torch.Size([64])\n",
            "batch 505: images torch.Size([64, 3, 32, 32]), labels torch.Size([64])\n",
            "batch 506: images torch.Size([64, 3, 32, 32]), labels torch.Size([64])\n",
            "batch 507: images torch.Size([64, 3, 32, 32]), labels torch.Size([64])\n",
            "batch 508: images torch.Size([64, 3, 32, 32]), labels torch.Size([64])\n",
            "batch 509: images torch.Size([64, 3, 32, 32]), labels torch.Size([64])\n",
            "batch 510: images torch.Size([64, 3, 32, 32]), labels torch.Size([64])\n",
            "batch 511: images torch.Size([64, 3, 32, 32]), labels torch.Size([64])\n",
            "batch 512: images torch.Size([64, 3, 32, 32]), labels torch.Size([64])\n",
            "batch 513: images torch.Size([64, 3, 32, 32]), labels torch.Size([64])\n",
            "batch 514: images torch.Size([64, 3, 32, 32]), labels torch.Size([64])\n",
            "batch 515: images torch.Size([64, 3, 32, 32]), labels torch.Size([64])\n",
            "batch 516: images torch.Size([64, 3, 32, 32]), labels torch.Size([64])\n",
            "batch 517: images torch.Size([64, 3, 32, 32]), labels torch.Size([64])\n",
            "batch 518: images torch.Size([64, 3, 32, 32]), labels torch.Size([64])\n",
            "batch 519: images torch.Size([64, 3, 32, 32]), labels torch.Size([64])\n",
            "batch 520: images torch.Size([64, 3, 32, 32]), labels torch.Size([64])\n",
            "batch 521: images torch.Size([64, 3, 32, 32]), labels torch.Size([64])\n",
            "batch 522: images torch.Size([64, 3, 32, 32]), labels torch.Size([64])\n",
            "batch 523: images torch.Size([64, 3, 32, 32]), labels torch.Size([64])\n",
            "batch 524: images torch.Size([64, 3, 32, 32]), labels torch.Size([64])\n",
            "batch 525: images torch.Size([64, 3, 32, 32]), labels torch.Size([64])\n",
            "batch 526: images torch.Size([64, 3, 32, 32]), labels torch.Size([64])\n",
            "batch 527: images torch.Size([64, 3, 32, 32]), labels torch.Size([64])\n",
            "batch 528: images torch.Size([64, 3, 32, 32]), labels torch.Size([64])\n",
            "batch 529: images torch.Size([64, 3, 32, 32]), labels torch.Size([64])\n",
            "batch 530: images torch.Size([64, 3, 32, 32]), labels torch.Size([64])\n",
            "batch 531: images torch.Size([64, 3, 32, 32]), labels torch.Size([64])\n",
            "batch 532: images torch.Size([64, 3, 32, 32]), labels torch.Size([64])\n",
            "batch 533: images torch.Size([64, 3, 32, 32]), labels torch.Size([64])\n",
            "batch 534: images torch.Size([64, 3, 32, 32]), labels torch.Size([64])\n",
            "batch 535: images torch.Size([64, 3, 32, 32]), labels torch.Size([64])\n",
            "batch 536: images torch.Size([64, 3, 32, 32]), labels torch.Size([64])\n",
            "batch 537: images torch.Size([64, 3, 32, 32]), labels torch.Size([64])\n",
            "batch 538: images torch.Size([64, 3, 32, 32]), labels torch.Size([64])\n",
            "batch 539: images torch.Size([64, 3, 32, 32]), labels torch.Size([64])\n",
            "batch 540: images torch.Size([64, 3, 32, 32]), labels torch.Size([64])\n",
            "batch 541: images torch.Size([64, 3, 32, 32]), labels torch.Size([64])\n",
            "batch 542: images torch.Size([64, 3, 32, 32]), labels torch.Size([64])\n",
            "batch 543: images torch.Size([64, 3, 32, 32]), labels torch.Size([64])\n",
            "batch 544: images torch.Size([64, 3, 32, 32]), labels torch.Size([64])\n",
            "batch 545: images torch.Size([64, 3, 32, 32]), labels torch.Size([64])\n",
            "batch 546: images torch.Size([64, 3, 32, 32]), labels torch.Size([64])\n",
            "batch 547: images torch.Size([64, 3, 32, 32]), labels torch.Size([64])\n",
            "batch 548: images torch.Size([64, 3, 32, 32]), labels torch.Size([64])\n",
            "batch 549: images torch.Size([64, 3, 32, 32]), labels torch.Size([64])\n",
            "batch 550: images torch.Size([64, 3, 32, 32]), labels torch.Size([64])\n",
            "batch 551: images torch.Size([64, 3, 32, 32]), labels torch.Size([64])\n",
            "batch 552: images torch.Size([64, 3, 32, 32]), labels torch.Size([64])\n",
            "batch 553: images torch.Size([64, 3, 32, 32]), labels torch.Size([64])\n",
            "batch 554: images torch.Size([64, 3, 32, 32]), labels torch.Size([64])\n",
            "batch 555: images torch.Size([64, 3, 32, 32]), labels torch.Size([64])\n",
            "batch 556: images torch.Size([64, 3, 32, 32]), labels torch.Size([64])\n",
            "batch 557: images torch.Size([64, 3, 32, 32]), labels torch.Size([64])\n",
            "batch 558: images torch.Size([64, 3, 32, 32]), labels torch.Size([64])\n",
            "batch 559: images torch.Size([64, 3, 32, 32]), labels torch.Size([64])\n",
            "batch 560: images torch.Size([64, 3, 32, 32]), labels torch.Size([64])\n",
            "batch 561: images torch.Size([64, 3, 32, 32]), labels torch.Size([64])\n",
            "batch 562: images torch.Size([64, 3, 32, 32]), labels torch.Size([64])\n",
            "batch 563: images torch.Size([64, 3, 32, 32]), labels torch.Size([64])\n",
            "batch 564: images torch.Size([64, 3, 32, 32]), labels torch.Size([64])\n",
            "batch 565: images torch.Size([64, 3, 32, 32]), labels torch.Size([64])\n",
            "batch 566: images torch.Size([64, 3, 32, 32]), labels torch.Size([64])\n",
            "batch 567: images torch.Size([64, 3, 32, 32]), labels torch.Size([64])\n",
            "batch 568: images torch.Size([64, 3, 32, 32]), labels torch.Size([64])\n",
            "batch 569: images torch.Size([64, 3, 32, 32]), labels torch.Size([64])\n",
            "batch 570: images torch.Size([64, 3, 32, 32]), labels torch.Size([64])\n",
            "batch 571: images torch.Size([64, 3, 32, 32]), labels torch.Size([64])\n",
            "batch 572: images torch.Size([64, 3, 32, 32]), labels torch.Size([64])\n",
            "batch 573: images torch.Size([64, 3, 32, 32]), labels torch.Size([64])\n",
            "batch 574: images torch.Size([64, 3, 32, 32]), labels torch.Size([64])\n",
            "batch 575: images torch.Size([64, 3, 32, 32]), labels torch.Size([64])\n",
            "batch 576: images torch.Size([64, 3, 32, 32]), labels torch.Size([64])\n",
            "batch 577: images torch.Size([64, 3, 32, 32]), labels torch.Size([64])\n",
            "batch 578: images torch.Size([64, 3, 32, 32]), labels torch.Size([64])\n",
            "batch 579: images torch.Size([64, 3, 32, 32]), labels torch.Size([64])\n",
            "batch 580: images torch.Size([64, 3, 32, 32]), labels torch.Size([64])\n",
            "batch 581: images torch.Size([64, 3, 32, 32]), labels torch.Size([64])\n",
            "batch 582: images torch.Size([64, 3, 32, 32]), labels torch.Size([64])\n",
            "batch 583: images torch.Size([64, 3, 32, 32]), labels torch.Size([64])\n",
            "batch 584: images torch.Size([64, 3, 32, 32]), labels torch.Size([64])\n",
            "batch 585: images torch.Size([64, 3, 32, 32]), labels torch.Size([64])\n",
            "batch 586: images torch.Size([64, 3, 32, 32]), labels torch.Size([64])\n",
            "batch 587: images torch.Size([64, 3, 32, 32]), labels torch.Size([64])\n",
            "batch 588: images torch.Size([64, 3, 32, 32]), labels torch.Size([64])\n",
            "batch 589: images torch.Size([64, 3, 32, 32]), labels torch.Size([64])\n",
            "batch 590: images torch.Size([64, 3, 32, 32]), labels torch.Size([64])\n",
            "batch 591: images torch.Size([64, 3, 32, 32]), labels torch.Size([64])\n",
            "batch 592: images torch.Size([64, 3, 32, 32]), labels torch.Size([64])\n",
            "batch 593: images torch.Size([64, 3, 32, 32]), labels torch.Size([64])\n",
            "batch 594: images torch.Size([64, 3, 32, 32]), labels torch.Size([64])\n",
            "batch 595: images torch.Size([64, 3, 32, 32]), labels torch.Size([64])\n",
            "batch 596: images torch.Size([64, 3, 32, 32]), labels torch.Size([64])\n",
            "batch 597: images torch.Size([64, 3, 32, 32]), labels torch.Size([64])\n",
            "batch 598: images torch.Size([64, 3, 32, 32]), labels torch.Size([64])\n",
            "batch 599: images torch.Size([64, 3, 32, 32]), labels torch.Size([64])\n",
            "batch 600: images torch.Size([64, 3, 32, 32]), labels torch.Size([64])\n",
            "batch 601: images torch.Size([64, 3, 32, 32]), labels torch.Size([64])\n",
            "batch 602: images torch.Size([64, 3, 32, 32]), labels torch.Size([64])\n",
            "batch 603: images torch.Size([64, 3, 32, 32]), labels torch.Size([64])\n",
            "batch 604: images torch.Size([64, 3, 32, 32]), labels torch.Size([64])\n",
            "batch 605: images torch.Size([64, 3, 32, 32]), labels torch.Size([64])\n",
            "batch 606: images torch.Size([64, 3, 32, 32]), labels torch.Size([64])\n",
            "batch 607: images torch.Size([64, 3, 32, 32]), labels torch.Size([64])\n",
            "batch 608: images torch.Size([64, 3, 32, 32]), labels torch.Size([64])\n",
            "batch 609: images torch.Size([64, 3, 32, 32]), labels torch.Size([64])\n",
            "batch 610: images torch.Size([64, 3, 32, 32]), labels torch.Size([64])\n",
            "batch 611: images torch.Size([64, 3, 32, 32]), labels torch.Size([64])\n",
            "batch 612: images torch.Size([64, 3, 32, 32]), labels torch.Size([64])\n",
            "batch 613: images torch.Size([64, 3, 32, 32]), labels torch.Size([64])\n",
            "batch 614: images torch.Size([64, 3, 32, 32]), labels torch.Size([64])\n",
            "batch 615: images torch.Size([64, 3, 32, 32]), labels torch.Size([64])\n",
            "batch 616: images torch.Size([64, 3, 32, 32]), labels torch.Size([64])\n",
            "batch 617: images torch.Size([64, 3, 32, 32]), labels torch.Size([64])\n",
            "batch 618: images torch.Size([64, 3, 32, 32]), labels torch.Size([64])\n",
            "batch 619: images torch.Size([64, 3, 32, 32]), labels torch.Size([64])\n",
            "batch 620: images torch.Size([64, 3, 32, 32]), labels torch.Size([64])\n",
            "batch 621: images torch.Size([64, 3, 32, 32]), labels torch.Size([64])\n",
            "batch 622: images torch.Size([64, 3, 32, 32]), labels torch.Size([64])\n",
            "batch 623: images torch.Size([64, 3, 32, 32]), labels torch.Size([64])\n",
            "batch 624: images torch.Size([64, 3, 32, 32]), labels torch.Size([64])\n",
            "batch 625: images torch.Size([64, 3, 32, 32]), labels torch.Size([64])\n",
            "batch 626: images torch.Size([64, 3, 32, 32]), labels torch.Size([64])\n",
            "batch 627: images torch.Size([64, 3, 32, 32]), labels torch.Size([64])\n",
            "batch 628: images torch.Size([64, 3, 32, 32]), labels torch.Size([64])\n",
            "batch 629: images torch.Size([64, 3, 32, 32]), labels torch.Size([64])\n",
            "batch 630: images torch.Size([64, 3, 32, 32]), labels torch.Size([64])\n",
            "batch 631: images torch.Size([64, 3, 32, 32]), labels torch.Size([64])\n",
            "batch 632: images torch.Size([64, 3, 32, 32]), labels torch.Size([64])\n",
            "batch 633: images torch.Size([64, 3, 32, 32]), labels torch.Size([64])\n",
            "batch 634: images torch.Size([64, 3, 32, 32]), labels torch.Size([64])\n",
            "batch 635: images torch.Size([64, 3, 32, 32]), labels torch.Size([64])\n",
            "batch 636: images torch.Size([64, 3, 32, 32]), labels torch.Size([64])\n",
            "batch 637: images torch.Size([64, 3, 32, 32]), labels torch.Size([64])\n",
            "batch 638: images torch.Size([64, 3, 32, 32]), labels torch.Size([64])\n",
            "batch 639: images torch.Size([64, 3, 32, 32]), labels torch.Size([64])\n",
            "batch 640: images torch.Size([64, 3, 32, 32]), labels torch.Size([64])\n",
            "batch 641: images torch.Size([64, 3, 32, 32]), labels torch.Size([64])\n",
            "batch 642: images torch.Size([64, 3, 32, 32]), labels torch.Size([64])\n",
            "batch 643: images torch.Size([64, 3, 32, 32]), labels torch.Size([64])\n",
            "batch 644: images torch.Size([64, 3, 32, 32]), labels torch.Size([64])\n",
            "batch 645: images torch.Size([64, 3, 32, 32]), labels torch.Size([64])\n",
            "batch 646: images torch.Size([64, 3, 32, 32]), labels torch.Size([64])\n",
            "batch 647: images torch.Size([64, 3, 32, 32]), labels torch.Size([64])\n",
            "batch 648: images torch.Size([64, 3, 32, 32]), labels torch.Size([64])\n",
            "batch 649: images torch.Size([64, 3, 32, 32]), labels torch.Size([64])\n",
            "batch 650: images torch.Size([64, 3, 32, 32]), labels torch.Size([64])\n",
            "batch 651: images torch.Size([64, 3, 32, 32]), labels torch.Size([64])\n",
            "batch 652: images torch.Size([64, 3, 32, 32]), labels torch.Size([64])\n",
            "batch 653: images torch.Size([64, 3, 32, 32]), labels torch.Size([64])\n",
            "batch 654: images torch.Size([64, 3, 32, 32]), labels torch.Size([64])\n",
            "batch 655: images torch.Size([64, 3, 32, 32]), labels torch.Size([64])\n",
            "batch 656: images torch.Size([64, 3, 32, 32]), labels torch.Size([64])\n",
            "batch 657: images torch.Size([64, 3, 32, 32]), labels torch.Size([64])\n",
            "batch 658: images torch.Size([64, 3, 32, 32]), labels torch.Size([64])\n",
            "batch 659: images torch.Size([64, 3, 32, 32]), labels torch.Size([64])\n",
            "batch 660: images torch.Size([64, 3, 32, 32]), labels torch.Size([64])\n",
            "batch 661: images torch.Size([64, 3, 32, 32]), labels torch.Size([64])\n",
            "batch 662: images torch.Size([64, 3, 32, 32]), labels torch.Size([64])\n",
            "batch 663: images torch.Size([64, 3, 32, 32]), labels torch.Size([64])\n",
            "batch 664: images torch.Size([64, 3, 32, 32]), labels torch.Size([64])\n",
            "batch 665: images torch.Size([64, 3, 32, 32]), labels torch.Size([64])\n",
            "batch 666: images torch.Size([64, 3, 32, 32]), labels torch.Size([64])\n",
            "batch 667: images torch.Size([64, 3, 32, 32]), labels torch.Size([64])\n",
            "batch 668: images torch.Size([64, 3, 32, 32]), labels torch.Size([64])\n",
            "batch 669: images torch.Size([64, 3, 32, 32]), labels torch.Size([64])\n",
            "batch 670: images torch.Size([64, 3, 32, 32]), labels torch.Size([64])\n",
            "batch 671: images torch.Size([64, 3, 32, 32]), labels torch.Size([64])\n",
            "batch 672: images torch.Size([64, 3, 32, 32]), labels torch.Size([64])\n",
            "batch 673: images torch.Size([64, 3, 32, 32]), labels torch.Size([64])\n",
            "batch 674: images torch.Size([64, 3, 32, 32]), labels torch.Size([64])\n",
            "batch 675: images torch.Size([64, 3, 32, 32]), labels torch.Size([64])\n",
            "batch 676: images torch.Size([64, 3, 32, 32]), labels torch.Size([64])\n",
            "batch 677: images torch.Size([64, 3, 32, 32]), labels torch.Size([64])\n",
            "batch 678: images torch.Size([64, 3, 32, 32]), labels torch.Size([64])\n",
            "batch 679: images torch.Size([64, 3, 32, 32]), labels torch.Size([64])\n",
            "batch 680: images torch.Size([64, 3, 32, 32]), labels torch.Size([64])\n",
            "batch 681: images torch.Size([64, 3, 32, 32]), labels torch.Size([64])\n",
            "batch 682: images torch.Size([64, 3, 32, 32]), labels torch.Size([64])\n",
            "batch 683: images torch.Size([64, 3, 32, 32]), labels torch.Size([64])\n",
            "batch 684: images torch.Size([64, 3, 32, 32]), labels torch.Size([64])\n",
            "batch 685: images torch.Size([64, 3, 32, 32]), labels torch.Size([64])\n",
            "batch 686: images torch.Size([64, 3, 32, 32]), labels torch.Size([64])\n",
            "batch 687: images torch.Size([64, 3, 32, 32]), labels torch.Size([64])\n",
            "batch 688: images torch.Size([64, 3, 32, 32]), labels torch.Size([64])\n",
            "batch 689: images torch.Size([64, 3, 32, 32]), labels torch.Size([64])\n",
            "batch 690: images torch.Size([64, 3, 32, 32]), labels torch.Size([64])\n",
            "batch 691: images torch.Size([64, 3, 32, 32]), labels torch.Size([64])\n",
            "batch 692: images torch.Size([64, 3, 32, 32]), labels torch.Size([64])\n",
            "batch 693: images torch.Size([64, 3, 32, 32]), labels torch.Size([64])\n",
            "batch 694: images torch.Size([64, 3, 32, 32]), labels torch.Size([64])\n",
            "batch 695: images torch.Size([64, 3, 32, 32]), labels torch.Size([64])\n",
            "batch 696: images torch.Size([64, 3, 32, 32]), labels torch.Size([64])\n",
            "batch 697: images torch.Size([64, 3, 32, 32]), labels torch.Size([64])\n",
            "batch 698: images torch.Size([64, 3, 32, 32]), labels torch.Size([64])\n",
            "batch 699: images torch.Size([64, 3, 32, 32]), labels torch.Size([64])\n",
            "batch 700: images torch.Size([64, 3, 32, 32]), labels torch.Size([64])\n",
            "batch 701: images torch.Size([64, 3, 32, 32]), labels torch.Size([64])\n",
            "batch 702: images torch.Size([64, 3, 32, 32]), labels torch.Size([64])\n",
            "batch 703: images torch.Size([64, 3, 32, 32]), labels torch.Size([64])\n",
            "batch 704: images torch.Size([64, 3, 32, 32]), labels torch.Size([64])\n",
            "batch 705: images torch.Size([64, 3, 32, 32]), labels torch.Size([64])\n",
            "batch 706: images torch.Size([64, 3, 32, 32]), labels torch.Size([64])\n",
            "batch 707: images torch.Size([64, 3, 32, 32]), labels torch.Size([64])\n",
            "batch 708: images torch.Size([64, 3, 32, 32]), labels torch.Size([64])\n",
            "batch 709: images torch.Size([64, 3, 32, 32]), labels torch.Size([64])\n",
            "batch 710: images torch.Size([64, 3, 32, 32]), labels torch.Size([64])\n",
            "batch 711: images torch.Size([64, 3, 32, 32]), labels torch.Size([64])\n",
            "batch 712: images torch.Size([64, 3, 32, 32]), labels torch.Size([64])\n",
            "batch 713: images torch.Size([64, 3, 32, 32]), labels torch.Size([64])\n",
            "batch 714: images torch.Size([64, 3, 32, 32]), labels torch.Size([64])\n",
            "batch 715: images torch.Size([64, 3, 32, 32]), labels torch.Size([64])\n",
            "batch 716: images torch.Size([64, 3, 32, 32]), labels torch.Size([64])\n",
            "batch 717: images torch.Size([64, 3, 32, 32]), labels torch.Size([64])\n",
            "batch 718: images torch.Size([64, 3, 32, 32]), labels torch.Size([64])\n",
            "batch 719: images torch.Size([64, 3, 32, 32]), labels torch.Size([64])\n",
            "batch 720: images torch.Size([64, 3, 32, 32]), labels torch.Size([64])\n",
            "batch 721: images torch.Size([64, 3, 32, 32]), labels torch.Size([64])\n",
            "batch 722: images torch.Size([64, 3, 32, 32]), labels torch.Size([64])\n",
            "batch 723: images torch.Size([64, 3, 32, 32]), labels torch.Size([64])\n",
            "batch 724: images torch.Size([64, 3, 32, 32]), labels torch.Size([64])\n",
            "batch 725: images torch.Size([64, 3, 32, 32]), labels torch.Size([64])\n",
            "batch 726: images torch.Size([64, 3, 32, 32]), labels torch.Size([64])\n",
            "batch 727: images torch.Size([64, 3, 32, 32]), labels torch.Size([64])\n",
            "batch 728: images torch.Size([64, 3, 32, 32]), labels torch.Size([64])\n",
            "batch 729: images torch.Size([64, 3, 32, 32]), labels torch.Size([64])\n",
            "batch 730: images torch.Size([64, 3, 32, 32]), labels torch.Size([64])\n",
            "batch 731: images torch.Size([64, 3, 32, 32]), labels torch.Size([64])\n",
            "batch 732: images torch.Size([64, 3, 32, 32]), labels torch.Size([64])\n",
            "batch 733: images torch.Size([64, 3, 32, 32]), labels torch.Size([64])\n",
            "batch 734: images torch.Size([64, 3, 32, 32]), labels torch.Size([64])\n",
            "batch 735: images torch.Size([64, 3, 32, 32]), labels torch.Size([64])\n",
            "batch 736: images torch.Size([64, 3, 32, 32]), labels torch.Size([64])\n",
            "batch 737: images torch.Size([64, 3, 32, 32]), labels torch.Size([64])\n",
            "batch 738: images torch.Size([64, 3, 32, 32]), labels torch.Size([64])\n",
            "batch 739: images torch.Size([64, 3, 32, 32]), labels torch.Size([64])\n",
            "batch 740: images torch.Size([64, 3, 32, 32]), labels torch.Size([64])\n",
            "batch 741: images torch.Size([64, 3, 32, 32]), labels torch.Size([64])\n",
            "batch 742: images torch.Size([64, 3, 32, 32]), labels torch.Size([64])\n",
            "batch 743: images torch.Size([64, 3, 32, 32]), labels torch.Size([64])\n",
            "batch 744: images torch.Size([64, 3, 32, 32]), labels torch.Size([64])\n",
            "batch 745: images torch.Size([64, 3, 32, 32]), labels torch.Size([64])\n",
            "batch 746: images torch.Size([64, 3, 32, 32]), labels torch.Size([64])\n",
            "batch 747: images torch.Size([64, 3, 32, 32]), labels torch.Size([64])\n",
            "batch 748: images torch.Size([64, 3, 32, 32]), labels torch.Size([64])\n",
            "batch 749: images torch.Size([64, 3, 32, 32]), labels torch.Size([64])\n",
            "batch 750: images torch.Size([64, 3, 32, 32]), labels torch.Size([64])\n",
            "batch 751: images torch.Size([64, 3, 32, 32]), labels torch.Size([64])\n",
            "batch 752: images torch.Size([64, 3, 32, 32]), labels torch.Size([64])\n",
            "batch 753: images torch.Size([64, 3, 32, 32]), labels torch.Size([64])\n",
            "batch 754: images torch.Size([64, 3, 32, 32]), labels torch.Size([64])\n",
            "batch 755: images torch.Size([64, 3, 32, 32]), labels torch.Size([64])\n",
            "batch 756: images torch.Size([64, 3, 32, 32]), labels torch.Size([64])\n",
            "batch 757: images torch.Size([64, 3, 32, 32]), labels torch.Size([64])\n",
            "batch 758: images torch.Size([64, 3, 32, 32]), labels torch.Size([64])\n",
            "batch 759: images torch.Size([64, 3, 32, 32]), labels torch.Size([64])\n",
            "batch 760: images torch.Size([64, 3, 32, 32]), labels torch.Size([64])\n",
            "batch 761: images torch.Size([64, 3, 32, 32]), labels torch.Size([64])\n",
            "batch 762: images torch.Size([64, 3, 32, 32]), labels torch.Size([64])\n",
            "batch 763: images torch.Size([64, 3, 32, 32]), labels torch.Size([64])\n",
            "batch 764: images torch.Size([64, 3, 32, 32]), labels torch.Size([64])\n",
            "batch 765: images torch.Size([64, 3, 32, 32]), labels torch.Size([64])\n",
            "batch 766: images torch.Size([64, 3, 32, 32]), labels torch.Size([64])\n",
            "batch 767: images torch.Size([64, 3, 32, 32]), labels torch.Size([64])\n",
            "batch 768: images torch.Size([64, 3, 32, 32]), labels torch.Size([64])\n",
            "batch 769: images torch.Size([64, 3, 32, 32]), labels torch.Size([64])\n",
            "batch 770: images torch.Size([64, 3, 32, 32]), labels torch.Size([64])\n",
            "batch 771: images torch.Size([64, 3, 32, 32]), labels torch.Size([64])\n",
            "batch 772: images torch.Size([64, 3, 32, 32]), labels torch.Size([64])\n",
            "batch 773: images torch.Size([64, 3, 32, 32]), labels torch.Size([64])\n",
            "batch 774: images torch.Size([64, 3, 32, 32]), labels torch.Size([64])\n",
            "batch 775: images torch.Size([64, 3, 32, 32]), labels torch.Size([64])\n",
            "batch 776: images torch.Size([64, 3, 32, 32]), labels torch.Size([64])\n",
            "batch 777: images torch.Size([64, 3, 32, 32]), labels torch.Size([64])\n",
            "batch 778: images torch.Size([64, 3, 32, 32]), labels torch.Size([64])\n",
            "batch 779: images torch.Size([64, 3, 32, 32]), labels torch.Size([64])\n",
            "batch 780: images torch.Size([64, 3, 32, 32]), labels torch.Size([64])\n",
            "batch 781: images torch.Size([64, 3, 32, 32]), labels torch.Size([64])\n",
            "batch 782: images torch.Size([16, 3, 32, 32]), labels torch.Size([16])\n"
          ]
        }
      ]
    },
    {
      "cell_type": "code",
      "source": [
        "# You should build your custom dataset as below.\n",
        "class CustomDataset(torch.utils.data.Dataset):\n",
        "    def __init__(self):\n",
        "        # TODO\n",
        "        # 1. Initialize file paths or a list of file names.\n",
        "        pass\n",
        "    def __getitem__(self, index):\n",
        "        # TODO\n",
        "        # 1. Read one data from file (e.g. using numpy.fromfile, PIL.Image.open).\n",
        "        # 2. Preprocess the data (e.g. torchvision.Transform).\n",
        "        # 3. Return a data pair (e.g. image and label).\n",
        "        pass\n",
        "    def __len__(self):\n",
        "        # You should change 0 to the total size of your dataset.\n",
        "        return 0"
      ],
      "metadata": {
        "id": "jdOr55qMhXqa"
      },
      "execution_count": 6,
      "outputs": []
    },
    {
      "cell_type": "markdown",
      "source": [
        "## Training and Test"
      ],
      "metadata": {
        "id": "Vtvi0zhyoLaQ"
      }
    },
    {
      "cell_type": "markdown",
      "source": [
        "The training and test pipeline needs to be manually defined. The following cells\n",
        "define a simple multilayer perceptron that will be trained on the MNIST dataset.\n",
        "\n",
        "First, the MNIST dataset is downloaded and the corresponding `Dataset` and `DataLoader` objects are created."
      ],
      "metadata": {
        "id": "0auga8O5vvkm"
      }
    },
    {
      "cell_type": "code",
      "source": [
        "# Device configuration.\n",
        "device = torch.device('cuda' if torch.cuda.is_available() else 'cpu')\n",
        "\n",
        "# Download the MNIST dataset.\n",
        "train_dataset = torchvision.datasets.MNIST(root='.',\n",
        "                                           train=True,\n",
        "                                           transform=transforms.ToTensor(),\n",
        "                                           download=True)\n",
        "test_dataset = torchvision.datasets.MNIST(root='.',\n",
        "                                          train=False,\n",
        "                                          transform=transforms.ToTensor())\n",
        "\n",
        "# Create the loaders.\n",
        "train_loader = torch.utils.data.DataLoader(dataset=train_dataset,\n",
        "                                           batch_size=64,\n",
        "                                           shuffle=True)\n",
        "test_loader = torch.utils.data.DataLoader(dataset=test_dataset,\n",
        "                                          batch_size=64,\n",
        "                                          shuffle=False)"
      ],
      "metadata": {
        "id": "3ifXeO09oQYG",
        "colab": {
          "base_uri": "https://localhost:8080/"
        },
        "outputId": "49ad362a-dad9-4e09-e908-534832231bc7"
      },
      "execution_count": 7,
      "outputs": [
        {
          "output_type": "stream",
          "name": "stdout",
          "text": [
            "Downloading http://yann.lecun.com/exdb/mnist/train-images-idx3-ubyte.gz\n",
            "Downloading http://yann.lecun.com/exdb/mnist/train-images-idx3-ubyte.gz to ./MNIST/raw/train-images-idx3-ubyte.gz\n"
          ]
        },
        {
          "output_type": "stream",
          "name": "stderr",
          "text": [
            "100%|██████████| 9912422/9912422 [00:00<00:00, 129707243.34it/s]\n"
          ]
        },
        {
          "output_type": "stream",
          "name": "stdout",
          "text": [
            "Extracting ./MNIST/raw/train-images-idx3-ubyte.gz to ./MNIST/raw\n",
            "\n",
            "Downloading http://yann.lecun.com/exdb/mnist/train-labels-idx1-ubyte.gz\n",
            "Downloading http://yann.lecun.com/exdb/mnist/train-labels-idx1-ubyte.gz to ./MNIST/raw/train-labels-idx1-ubyte.gz\n"
          ]
        },
        {
          "output_type": "stream",
          "name": "stderr",
          "text": [
            "100%|██████████| 28881/28881 [00:00<00:00, 63091507.20it/s]\n"
          ]
        },
        {
          "output_type": "stream",
          "name": "stdout",
          "text": [
            "Extracting ./MNIST/raw/train-labels-idx1-ubyte.gz to ./MNIST/raw\n",
            "\n",
            "Downloading http://yann.lecun.com/exdb/mnist/t10k-images-idx3-ubyte.gz\n",
            "Downloading http://yann.lecun.com/exdb/mnist/t10k-images-idx3-ubyte.gz to ./MNIST/raw/t10k-images-idx3-ubyte.gz\n"
          ]
        },
        {
          "output_type": "stream",
          "name": "stderr",
          "text": [
            "100%|██████████| 1648877/1648877 [00:00<00:00, 44664759.73it/s]"
          ]
        },
        {
          "output_type": "stream",
          "name": "stdout",
          "text": [
            "Extracting ./MNIST/raw/t10k-images-idx3-ubyte.gz to ./MNIST/raw\n"
          ]
        },
        {
          "output_type": "stream",
          "name": "stderr",
          "text": [
            "\n"
          ]
        },
        {
          "output_type": "stream",
          "name": "stdout",
          "text": [
            "\n",
            "Downloading http://yann.lecun.com/exdb/mnist/t10k-labels-idx1-ubyte.gz\n",
            "Downloading http://yann.lecun.com/exdb/mnist/t10k-labels-idx1-ubyte.gz to ./MNIST/raw/t10k-labels-idx1-ubyte.gz\n"
          ]
        },
        {
          "output_type": "stream",
          "name": "stderr",
          "text": [
            "100%|██████████| 4542/4542 [00:00<00:00, 15796458.35it/s]\n"
          ]
        },
        {
          "output_type": "stream",
          "name": "stdout",
          "text": [
            "Extracting ./MNIST/raw/t10k-labels-idx1-ubyte.gz to ./MNIST/raw\n",
            "\n"
          ]
        }
      ]
    },
    {
      "cell_type": "markdown",
      "source": [
        "Then, the MLP model is defined. To define a model in PyTorch it is necessary to\n",
        "create a custom class that inherits from `nn.Module`. The constructor of this class is used to store the parameters of the model, while the `forward` method defines what to do during each forward pass."
      ],
      "metadata": {
        "id": "UF5ccteAwbRa"
      }
    },
    {
      "cell_type": "code",
      "source": [
        "# Hyper-parameters.\n",
        "input_size = 784\n",
        "hidden_size = 512\n",
        "num_classes = 10\n",
        "num_epochs = 5\n",
        "learning_rate = 0.001\n",
        "\n",
        "# Multilayer Perceptron.\n",
        "class MLP(nn.Module):\n",
        "\n",
        "    # Constructor.\n",
        "    def __init__(self, input_size, hidden_size, num_classes):\n",
        "        super(MLP, self).__init__()\n",
        "        self.fc1 = nn.Linear(input_size, hidden_size)\n",
        "        self.relu = nn.ReLU()\n",
        "        self.fc2 = nn.Linear(hidden_size, num_classes)\n",
        "\n",
        "    # Forward pass.\n",
        "    def forward(self, x):\n",
        "        out = self.fc1(x)\n",
        "        out = self.relu(out)\n",
        "        out = self.fc2(out)\n",
        "        return out\n",
        "\n",
        "# Create the model.\n",
        "model = MLP(input_size, hidden_size, num_classes).to(device)"
      ],
      "metadata": {
        "id": "eq2o2Wm4o2Bj"
      },
      "execution_count": 8,
      "outputs": []
    },
    {
      "cell_type": "markdown",
      "source": [
        "To train the model, the cross entropy loss function (`nn.CrossEntropyLoss`) is used. This function takes as input the output logits produced by the model, and the ground truth labels. Moreover, the optimizer of choice will be Adam (`torch.optim.Adam`).\n",
        "\n",
        "The `train` and `test` functions are defined to train and test the model, respectively. Both functions provide a way of iterating over the entire loaders. These functions are called once per epoch."
      ],
      "metadata": {
        "id": "P-oi2HVFxA2H"
      }
    },
    {
      "cell_type": "code",
      "source": [
        "# Loss and optimizer.\n",
        "criterion = nn.CrossEntropyLoss()\n",
        "optimizer = torch.optim.Adam(model.parameters(), lr=learning_rate)\n",
        "\n",
        "# Training function.\n",
        "def train(epoch, device='cpu'):\n",
        "    l = 0\n",
        "    for data in tqdm(train_loader, desc=f'Epoch {epoch+1:03d}'):\n",
        "        x = data[0].reshape(-1, 28 * 28).to(device)\n",
        "        y = data[1].to(device)\n",
        "        out = model(x)\n",
        "        loss = criterion(out, y)\n",
        "        l += loss\n",
        "        loss.backward()\n",
        "        optimizer.step()\n",
        "        optimizer.zero_grad()\n",
        "    return l\n",
        "\n",
        "# Test function.\n",
        "def test(device='cpu'):\n",
        "    l = 0\n",
        "    correct = 0\n",
        "    total = 0\n",
        "    with torch.no_grad():\n",
        "        for data in test_loader:\n",
        "            x = data[0].reshape(-1, 28 * 28).to(device)\n",
        "            y = data[1].to(device)\n",
        "            out = model(x)\n",
        "            l += criterion(out, y)\n",
        "            _, pred = torch.max(out.data, 1)\n",
        "            total += y.size(0)\n",
        "            correct += (pred == y).sum().item()\n",
        "    return l, correct / total\n",
        "\n",
        "# Training and test for five epochs.\n",
        "for epoch in range(num_epochs):\n",
        "    train_loss = train(epoch, device)\n",
        "    test_loss, test_acc = test(device)\n",
        "    print(f'Epoch {epoch+1:03d}: training loss {train_loss:.4f}, test loss {test_loss:.4f}, test acc {test_acc}')"
      ],
      "metadata": {
        "id": "v4pfJIfipayH",
        "colab": {
          "base_uri": "https://localhost:8080/"
        },
        "outputId": "0033edc2-5bb9-40e6-9a1b-0d36f7332fe7"
      },
      "execution_count": 9,
      "outputs": [
        {
          "output_type": "stream",
          "name": "stderr",
          "text": [
            "Epoch 001: 100%|██████████| 938/938 [00:12<00:00, 76.46it/s]\n"
          ]
        },
        {
          "output_type": "stream",
          "name": "stdout",
          "text": [
            "Epoch 001: training loss 238.2715, test loss 19.6506, test acc 0.961\n"
          ]
        },
        {
          "output_type": "stream",
          "name": "stderr",
          "text": [
            "Epoch 002: 100%|██████████| 938/938 [00:09<00:00, 95.26it/s]\n"
          ]
        },
        {
          "output_type": "stream",
          "name": "stdout",
          "text": [
            "Epoch 002: training loss 93.1838, test loss 13.8053, test acc 0.9716\n"
          ]
        },
        {
          "output_type": "stream",
          "name": "stderr",
          "text": [
            "Epoch 003: 100%|██████████| 938/938 [00:09<00:00, 95.34it/s] \n"
          ]
        },
        {
          "output_type": "stream",
          "name": "stdout",
          "text": [
            "Epoch 003: training loss 60.9267, test loss 12.6637, test acc 0.9744\n"
          ]
        },
        {
          "output_type": "stream",
          "name": "stderr",
          "text": [
            "Epoch 004: 100%|██████████| 938/938 [00:10<00:00, 91.82it/s]\n"
          ]
        },
        {
          "output_type": "stream",
          "name": "stdout",
          "text": [
            "Epoch 004: training loss 43.4754, test loss 11.6361, test acc 0.9762\n"
          ]
        },
        {
          "output_type": "stream",
          "name": "stderr",
          "text": [
            "Epoch 005: 100%|██████████| 938/938 [00:10<00:00, 93.41it/s]\n"
          ]
        },
        {
          "output_type": "stream",
          "name": "stdout",
          "text": [
            "Epoch 005: training loss 30.8465, test loss 10.6565, test acc 0.9793\n"
          ]
        }
      ]
    },
    {
      "cell_type": "markdown",
      "source": [
        "## Pretrained Models"
      ],
      "metadata": {
        "id": "_2WAHeMtjbo9"
      }
    },
    {
      "cell_type": "markdown",
      "source": [
        "The `torchvision.models` subpackage contains definitions of models for addressing different computer vision tasks. Here, a pretrained ResNet-18 is downloaded.\n",
        "\n",
        "Once downloaded, all parameters of the model are set to be non-trainable, and the last layer (i.e., the classification head) is replaced with a new linear layer (`nn.Linear`) that can be trained on a different dataset to solve a classification problem that considers an arbitrary number of classes. This procedure is called *fine-tuning*."
      ],
      "metadata": {
        "id": "yC2DLGB_k3_h"
      }
    },
    {
      "cell_type": "code",
      "source": [
        "# Download and load the pretrained ResNet-18.\n",
        "resnet = torchvision.models.resnet18(weights='ResNet18_Weights.DEFAULT')\n",
        "\n",
        "# If you want to finetune only the top layer of the model, set as below.\n",
        "for param in resnet.parameters():\n",
        "    param.requires_grad = False\n",
        "\n",
        "# Replace the top layer for finetuning.\n",
        "resnet.fc = nn.Linear(resnet.fc.in_features, 100)  # 100 classes.\n",
        "\n",
        "# Forward pass.\n",
        "image = torch.randn(1, 3, 224, 224)\n",
        "output = resnet(image)\n",
        "print(output.size())"
      ],
      "metadata": {
        "colab": {
          "base_uri": "https://localhost:8080/"
        },
        "id": "NjY5x0Wxjhbb",
        "outputId": "2fc78ed8-1987-462d-c1a3-c2dfebe4808d"
      },
      "execution_count": 10,
      "outputs": [
        {
          "output_type": "stream",
          "name": "stderr",
          "text": [
            "Downloading: \"https://download.pytorch.org/models/resnet18-f37072fd.pth\" to /root/.cache/torch/hub/checkpoints/resnet18-f37072fd.pth\n",
            "100%|██████████| 44.7M/44.7M [00:00<00:00, 169MB/s]\n"
          ]
        },
        {
          "output_type": "stream",
          "name": "stdout",
          "text": [
            "torch.Size([1, 100])\n"
          ]
        }
      ]
    },
    {
      "cell_type": "markdown",
      "source": [
        "## Save and Load Models"
      ],
      "metadata": {
        "id": "FFdyEbDEjzG6"
      }
    },
    {
      "cell_type": "code",
      "source": [
        "# Save and load the entire model.\n",
        "torch.save(resnet, 'model.ckpt')\n",
        "model = torch.load('model.ckpt')\n",
        "\n",
        "# Save and load only the model parameters (recommended).\n",
        "torch.save(resnet.state_dict(), 'params.ckpt')\n",
        "resnet.load_state_dict(torch.load('params.ckpt'))"
      ],
      "metadata": {
        "colab": {
          "base_uri": "https://localhost:8080/"
        },
        "id": "ERJIxjTLj1LR",
        "outputId": "5a64a328-0845-4ca7-c2e5-a0720839ac38"
      },
      "execution_count": 11,
      "outputs": [
        {
          "output_type": "execute_result",
          "data": {
            "text/plain": [
              "<All keys matched successfully>"
            ]
          },
          "metadata": {},
          "execution_count": 11
        }
      ]
    }
  ]
}