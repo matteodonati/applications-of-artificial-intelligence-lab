{
  "nbformat": 4,
  "nbformat_minor": 0,
  "metadata": {
    "colab": {
      "provenance": [],
      "gpuType": "T4"
    },
    "kernelspec": {
      "name": "python3",
      "display_name": "Python 3"
    },
    "language_info": {
      "name": "python"
    },
    "accelerator": "GPU"
  },
  "cells": [
    {
      "cell_type": "markdown",
      "source": [
        "# Recurrent Neural Networks"
      ],
      "metadata": {
        "id": "k8OCOa8xZuO1"
      }
    },
    {
      "cell_type": "markdown",
      "source": [
        "Recurrent Neural Networks (RNNs) represent a powerful class of neural networks specifically designed to handle sequential data and variable-length sequences. Unlike traditional feedforward neural networks, which process each input independently, RNNs have connections that form directed cycles, allowing them to exhibit dynamic temporal behavior.\n",
        "\n",
        "At its core, an RNN architecture includes recurrent connections that enable the network to persist information across time steps, making them particularly effective for tasks such as time series prediction, natural language processing, speech recognition, and more. This inherent ability to capture temporal dependencies makes RNNs well-suited for tasks where the input data's context and ordering are essential."
      ],
      "metadata": {
        "id": "FPyex--dvn0b"
      }
    },
    {
      "cell_type": "markdown",
      "source": [
        "## Libraries"
      ],
      "metadata": {
        "id": "3f-qd65Ba-lr"
      }
    },
    {
      "cell_type": "code",
      "execution_count": 1,
      "metadata": {
        "id": "pbObQ36qZkL9"
      },
      "outputs": [],
      "source": [
        "# !pip install torch"
      ]
    },
    {
      "cell_type": "code",
      "source": [
        "import torch\n",
        "import torch.nn as nn\n",
        "import numpy as np\n",
        "import pandas as pd\n",
        "import random\n",
        "from google.colab import drive\n",
        "from scipy.signal import resample\n",
        "from torch.utils.data import Dataset, DataLoader\n",
        "from tqdm import tqdm\n",
        "from matplotlib import pyplot as plt\n",
        "import seaborn as sns\n",
        "from sklearn.utils.class_weight import compute_class_weight\n",
        "from sklearn.metrics import f1_score, classification_report"
      ],
      "metadata": {
        "id": "DOMbiemJZ6U5"
      },
      "execution_count": 2,
      "outputs": []
    },
    {
      "cell_type": "markdown",
      "source": [
        "## Utilities"
      ],
      "metadata": {
        "id": "kXcCL1BhbA3x"
      }
    },
    {
      "cell_type": "markdown",
      "source": [
        "Here, some utility functions are defined. In particular, `train` and `test` are the functions used to train and test models, respectively."
      ],
      "metadata": {
        "id": "fWxHYVV5z8mC"
      }
    },
    {
      "cell_type": "code",
      "source": [
        "# Training function.\n",
        "def train(epoch, model, loader, criterion, optimizer, device='cpu'):\n",
        "    l = 0\n",
        "    for data in tqdm(loader, desc=f'Epoch {epoch+1:03d}'):\n",
        "        x = data[0].to(device)\n",
        "        y = data[1].to(device)\n",
        "        out = model(x)\n",
        "        loss = criterion(out, y)\n",
        "        l += loss\n",
        "        loss.backward()\n",
        "        optimizer.step()\n",
        "        optimizer.zero_grad()\n",
        "    return l\n",
        "\n",
        "# Test function.\n",
        "def test(model, loader, criterion, device='cpu'):\n",
        "    l = 0\n",
        "    correct = 0\n",
        "    total = 0\n",
        "    y_true = []\n",
        "    y_pred = []\n",
        "    with torch.no_grad():\n",
        "        for data in loader:\n",
        "            x = data[0].to(device)\n",
        "            y = data[1].to(device)\n",
        "            out = model(x)\n",
        "            l += criterion(out, y)\n",
        "            _, pred = torch.max(out.data, 1)\n",
        "            total += y.size(0)\n",
        "            correct += (pred == y).sum().item()\n",
        "            y_true += y.tolist()\n",
        "            y_pred += pred.tolist()\n",
        "    return l, correct / total, f1_score(y_true, y_pred, average='macro'), y_true, y_pred"
      ],
      "metadata": {
        "id": "pkc22s4GbCKZ"
      },
      "execution_count": 3,
      "outputs": []
    },
    {
      "cell_type": "markdown",
      "source": [
        "The `CustomDataset` class encapsulates the functionality required to prepare custom data for training deep learning models in PyTorch. By implementing methods such as `__len__` and `__getitem__`, it conforms to the interface expected by PyTorch's `DataLoader`, which is used to iterate over batches of data during training or evaluation."
      ],
      "metadata": {
        "id": "9gfDiJz_0JBE"
      }
    },
    {
      "cell_type": "code",
      "source": [
        "# Custom dataset, as we discussed in the first lecture (PyTorch Basics).\n",
        "class CustomDataset(Dataset):\n",
        "\n",
        "    # Stores the data.\n",
        "    def __init__(self, x, y=None, transforms=None):\n",
        "        super().__init__()\n",
        "        self.x = x\n",
        "        self.y = y\n",
        "        self.transforms = transforms\n",
        "\n",
        "    # Returns the length of the dataset.\n",
        "    def __len__(self):\n",
        "        return self.x.shape[0]\n",
        "\n",
        "    # Returns a (x, y) pair from the dataset.\n",
        "    def __getitem__(self, idx):\n",
        "        x = self.x.iloc[idx, :]\n",
        "        if self.transforms is not None:\n",
        "            x = self.transforms(x)\n",
        "        x = torch.tensor(x).float().unsqueeze(-1)\n",
        "        y = torch.tensor([self.y.iloc[idx]]).type(torch.LongTensor).squeeze()\n",
        "        return x, y"
      ],
      "metadata": {
        "id": "WRQHt4m6z2_D"
      },
      "execution_count": 4,
      "outputs": []
    },
    {
      "cell_type": "markdown",
      "source": [
        "## Data"
      ],
      "metadata": {
        "id": "pjyrVbWkbCna"
      }
    },
    {
      "cell_type": "markdown",
      "source": [
        "We will use the [MIT-BIH Arrhythmia](https://physionet.org/content/mitdb/1.0.0/) dataset, which can be downloaded from Kaggle [here](https://www.kaggle.com/datasets/shayanfazeli/heartbeat). This dataset contain ambulatory ECG recordings and defines a multiclass classification problem.\n",
        "\n",
        "To run the following cells, you should first download the dataset and then upload the two files, `mitbih_train.csv` and `mitbih_test.csv`, here on Google Colab. Otherwise, you can upload the files on Google Drive and access them by connecting Colab to Drive."
      ],
      "metadata": {
        "id": "3oicWzAvZqJr"
      }
    },
    {
      "cell_type": "code",
      "source": [
        "# Connect Google Drive.\n",
        "drive.mount('/content/drive')"
      ],
      "metadata": {
        "id": "uwkshADn4bQw",
        "colab": {
          "base_uri": "https://localhost:8080/"
        },
        "outputId": "78110e0d-553d-440d-c04b-c598c02a5d0d"
      },
      "execution_count": 5,
      "outputs": [
        {
          "output_type": "stream",
          "name": "stdout",
          "text": [
            "Mounted at /content/drive\n"
          ]
        }
      ]
    },
    {
      "cell_type": "markdown",
      "source": [
        "Each sample of the dataset defines a univariate time-series composed of $187$ time-steps. The last column of each sample stores the specific class label."
      ],
      "metadata": {
        "id": "o-IckzHm4dzI"
      }
    },
    {
      "cell_type": "code",
      "source": [
        "# Read train and test data.\n",
        "df_train = pd.read_csv('drive/MyDrive/mitbih_train.csv', header=None)\n",
        "df_test = pd.read_csv('drive/MyDrive/mitbih_test.csv', header=None)\n",
        "\n",
        "# Training dataframe.\n",
        "df_train"
      ],
      "metadata": {
        "id": "V9EfbvagbXiZ",
        "colab": {
          "base_uri": "https://localhost:8080/",
          "height": 424
        },
        "outputId": "8a25f022-7cde-43ae-e14d-124dea200853"
      },
      "execution_count": 6,
      "outputs": [
        {
          "output_type": "execute_result",
          "data": {
            "text/plain": [
              "            0         1         2         3         4         5         6    \\\n",
              "0      0.977941  0.926471  0.681373  0.245098  0.154412  0.191176  0.151961   \n",
              "1      0.960114  0.863248  0.461538  0.196581  0.094017  0.125356  0.099715   \n",
              "2      1.000000  0.659459  0.186486  0.070270  0.070270  0.059459  0.056757   \n",
              "3      0.925414  0.665746  0.541436  0.276243  0.196133  0.077348  0.071823   \n",
              "4      0.967136  1.000000  0.830986  0.586854  0.356808  0.248826  0.145540   \n",
              "...         ...       ...       ...       ...       ...       ...       ...   \n",
              "87549  0.807018  0.494737  0.536842  0.529825  0.491228  0.484211  0.456140   \n",
              "87550  0.718333  0.605000  0.486667  0.361667  0.231667  0.120000  0.051667   \n",
              "87551  0.906122  0.624490  0.595918  0.575510  0.530612  0.481633  0.444898   \n",
              "87552  0.858228  0.645570  0.845570  0.248101  0.167089  0.131646  0.121519   \n",
              "87553  0.901506  0.845886  0.800695  0.748552  0.687138  0.599073  0.512167   \n",
              "\n",
              "            7         8         9    ...  178  179  180  181  182  183  184  \\\n",
              "0      0.085784  0.058824  0.049020  ...  0.0  0.0  0.0  0.0  0.0  0.0  0.0   \n",
              "1      0.088319  0.074074  0.082621  ...  0.0  0.0  0.0  0.0  0.0  0.0  0.0   \n",
              "2      0.043243  0.054054  0.045946  ...  0.0  0.0  0.0  0.0  0.0  0.0  0.0   \n",
              "3      0.060773  0.066298  0.058011  ...  0.0  0.0  0.0  0.0  0.0  0.0  0.0   \n",
              "4      0.089202  0.117371  0.150235  ...  0.0  0.0  0.0  0.0  0.0  0.0  0.0   \n",
              "...         ...       ...       ...  ...  ...  ...  ...  ...  ...  ...  ...   \n",
              "87549  0.396491  0.284211  0.136842  ...  0.0  0.0  0.0  0.0  0.0  0.0  0.0   \n",
              "87550  0.001667  0.000000  0.013333  ...  0.0  0.0  0.0  0.0  0.0  0.0  0.0   \n",
              "87551  0.387755  0.322449  0.191837  ...  0.0  0.0  0.0  0.0  0.0  0.0  0.0   \n",
              "87552  0.121519  0.118987  0.103797  ...  0.0  0.0  0.0  0.0  0.0  0.0  0.0   \n",
              "87553  0.427578  0.395133  0.402086  ...  0.0  0.0  0.0  0.0  0.0  0.0  0.0   \n",
              "\n",
              "       185  186  187  \n",
              "0      0.0  0.0  0.0  \n",
              "1      0.0  0.0  0.0  \n",
              "2      0.0  0.0  0.0  \n",
              "3      0.0  0.0  0.0  \n",
              "4      0.0  0.0  0.0  \n",
              "...    ...  ...  ...  \n",
              "87549  0.0  0.0  4.0  \n",
              "87550  0.0  0.0  4.0  \n",
              "87551  0.0  0.0  4.0  \n",
              "87552  0.0  0.0  4.0  \n",
              "87553  0.0  0.0  4.0  \n",
              "\n",
              "[87554 rows x 188 columns]"
            ],
            "text/html": [
              "\n",
              "  <div id=\"df-b58be746-6b9c-4883-8449-a386ed78af67\" class=\"colab-df-container\">\n",
              "    <div>\n",
              "<style scoped>\n",
              "    .dataframe tbody tr th:only-of-type {\n",
              "        vertical-align: middle;\n",
              "    }\n",
              "\n",
              "    .dataframe tbody tr th {\n",
              "        vertical-align: top;\n",
              "    }\n",
              "\n",
              "    .dataframe thead th {\n",
              "        text-align: right;\n",
              "    }\n",
              "</style>\n",
              "<table border=\"1\" class=\"dataframe\">\n",
              "  <thead>\n",
              "    <tr style=\"text-align: right;\">\n",
              "      <th></th>\n",
              "      <th>0</th>\n",
              "      <th>1</th>\n",
              "      <th>2</th>\n",
              "      <th>3</th>\n",
              "      <th>4</th>\n",
              "      <th>5</th>\n",
              "      <th>6</th>\n",
              "      <th>7</th>\n",
              "      <th>8</th>\n",
              "      <th>9</th>\n",
              "      <th>...</th>\n",
              "      <th>178</th>\n",
              "      <th>179</th>\n",
              "      <th>180</th>\n",
              "      <th>181</th>\n",
              "      <th>182</th>\n",
              "      <th>183</th>\n",
              "      <th>184</th>\n",
              "      <th>185</th>\n",
              "      <th>186</th>\n",
              "      <th>187</th>\n",
              "    </tr>\n",
              "  </thead>\n",
              "  <tbody>\n",
              "    <tr>\n",
              "      <th>0</th>\n",
              "      <td>0.977941</td>\n",
              "      <td>0.926471</td>\n",
              "      <td>0.681373</td>\n",
              "      <td>0.245098</td>\n",
              "      <td>0.154412</td>\n",
              "      <td>0.191176</td>\n",
              "      <td>0.151961</td>\n",
              "      <td>0.085784</td>\n",
              "      <td>0.058824</td>\n",
              "      <td>0.049020</td>\n",
              "      <td>...</td>\n",
              "      <td>0.0</td>\n",
              "      <td>0.0</td>\n",
              "      <td>0.0</td>\n",
              "      <td>0.0</td>\n",
              "      <td>0.0</td>\n",
              "      <td>0.0</td>\n",
              "      <td>0.0</td>\n",
              "      <td>0.0</td>\n",
              "      <td>0.0</td>\n",
              "      <td>0.0</td>\n",
              "    </tr>\n",
              "    <tr>\n",
              "      <th>1</th>\n",
              "      <td>0.960114</td>\n",
              "      <td>0.863248</td>\n",
              "      <td>0.461538</td>\n",
              "      <td>0.196581</td>\n",
              "      <td>0.094017</td>\n",
              "      <td>0.125356</td>\n",
              "      <td>0.099715</td>\n",
              "      <td>0.088319</td>\n",
              "      <td>0.074074</td>\n",
              "      <td>0.082621</td>\n",
              "      <td>...</td>\n",
              "      <td>0.0</td>\n",
              "      <td>0.0</td>\n",
              "      <td>0.0</td>\n",
              "      <td>0.0</td>\n",
              "      <td>0.0</td>\n",
              "      <td>0.0</td>\n",
              "      <td>0.0</td>\n",
              "      <td>0.0</td>\n",
              "      <td>0.0</td>\n",
              "      <td>0.0</td>\n",
              "    </tr>\n",
              "    <tr>\n",
              "      <th>2</th>\n",
              "      <td>1.000000</td>\n",
              "      <td>0.659459</td>\n",
              "      <td>0.186486</td>\n",
              "      <td>0.070270</td>\n",
              "      <td>0.070270</td>\n",
              "      <td>0.059459</td>\n",
              "      <td>0.056757</td>\n",
              "      <td>0.043243</td>\n",
              "      <td>0.054054</td>\n",
              "      <td>0.045946</td>\n",
              "      <td>...</td>\n",
              "      <td>0.0</td>\n",
              "      <td>0.0</td>\n",
              "      <td>0.0</td>\n",
              "      <td>0.0</td>\n",
              "      <td>0.0</td>\n",
              "      <td>0.0</td>\n",
              "      <td>0.0</td>\n",
              "      <td>0.0</td>\n",
              "      <td>0.0</td>\n",
              "      <td>0.0</td>\n",
              "    </tr>\n",
              "    <tr>\n",
              "      <th>3</th>\n",
              "      <td>0.925414</td>\n",
              "      <td>0.665746</td>\n",
              "      <td>0.541436</td>\n",
              "      <td>0.276243</td>\n",
              "      <td>0.196133</td>\n",
              "      <td>0.077348</td>\n",
              "      <td>0.071823</td>\n",
              "      <td>0.060773</td>\n",
              "      <td>0.066298</td>\n",
              "      <td>0.058011</td>\n",
              "      <td>...</td>\n",
              "      <td>0.0</td>\n",
              "      <td>0.0</td>\n",
              "      <td>0.0</td>\n",
              "      <td>0.0</td>\n",
              "      <td>0.0</td>\n",
              "      <td>0.0</td>\n",
              "      <td>0.0</td>\n",
              "      <td>0.0</td>\n",
              "      <td>0.0</td>\n",
              "      <td>0.0</td>\n",
              "    </tr>\n",
              "    <tr>\n",
              "      <th>4</th>\n",
              "      <td>0.967136</td>\n",
              "      <td>1.000000</td>\n",
              "      <td>0.830986</td>\n",
              "      <td>0.586854</td>\n",
              "      <td>0.356808</td>\n",
              "      <td>0.248826</td>\n",
              "      <td>0.145540</td>\n",
              "      <td>0.089202</td>\n",
              "      <td>0.117371</td>\n",
              "      <td>0.150235</td>\n",
              "      <td>...</td>\n",
              "      <td>0.0</td>\n",
              "      <td>0.0</td>\n",
              "      <td>0.0</td>\n",
              "      <td>0.0</td>\n",
              "      <td>0.0</td>\n",
              "      <td>0.0</td>\n",
              "      <td>0.0</td>\n",
              "      <td>0.0</td>\n",
              "      <td>0.0</td>\n",
              "      <td>0.0</td>\n",
              "    </tr>\n",
              "    <tr>\n",
              "      <th>...</th>\n",
              "      <td>...</td>\n",
              "      <td>...</td>\n",
              "      <td>...</td>\n",
              "      <td>...</td>\n",
              "      <td>...</td>\n",
              "      <td>...</td>\n",
              "      <td>...</td>\n",
              "      <td>...</td>\n",
              "      <td>...</td>\n",
              "      <td>...</td>\n",
              "      <td>...</td>\n",
              "      <td>...</td>\n",
              "      <td>...</td>\n",
              "      <td>...</td>\n",
              "      <td>...</td>\n",
              "      <td>...</td>\n",
              "      <td>...</td>\n",
              "      <td>...</td>\n",
              "      <td>...</td>\n",
              "      <td>...</td>\n",
              "      <td>...</td>\n",
              "    </tr>\n",
              "    <tr>\n",
              "      <th>87549</th>\n",
              "      <td>0.807018</td>\n",
              "      <td>0.494737</td>\n",
              "      <td>0.536842</td>\n",
              "      <td>0.529825</td>\n",
              "      <td>0.491228</td>\n",
              "      <td>0.484211</td>\n",
              "      <td>0.456140</td>\n",
              "      <td>0.396491</td>\n",
              "      <td>0.284211</td>\n",
              "      <td>0.136842</td>\n",
              "      <td>...</td>\n",
              "      <td>0.0</td>\n",
              "      <td>0.0</td>\n",
              "      <td>0.0</td>\n",
              "      <td>0.0</td>\n",
              "      <td>0.0</td>\n",
              "      <td>0.0</td>\n",
              "      <td>0.0</td>\n",
              "      <td>0.0</td>\n",
              "      <td>0.0</td>\n",
              "      <td>4.0</td>\n",
              "    </tr>\n",
              "    <tr>\n",
              "      <th>87550</th>\n",
              "      <td>0.718333</td>\n",
              "      <td>0.605000</td>\n",
              "      <td>0.486667</td>\n",
              "      <td>0.361667</td>\n",
              "      <td>0.231667</td>\n",
              "      <td>0.120000</td>\n",
              "      <td>0.051667</td>\n",
              "      <td>0.001667</td>\n",
              "      <td>0.000000</td>\n",
              "      <td>0.013333</td>\n",
              "      <td>...</td>\n",
              "      <td>0.0</td>\n",
              "      <td>0.0</td>\n",
              "      <td>0.0</td>\n",
              "      <td>0.0</td>\n",
              "      <td>0.0</td>\n",
              "      <td>0.0</td>\n",
              "      <td>0.0</td>\n",
              "      <td>0.0</td>\n",
              "      <td>0.0</td>\n",
              "      <td>4.0</td>\n",
              "    </tr>\n",
              "    <tr>\n",
              "      <th>87551</th>\n",
              "      <td>0.906122</td>\n",
              "      <td>0.624490</td>\n",
              "      <td>0.595918</td>\n",
              "      <td>0.575510</td>\n",
              "      <td>0.530612</td>\n",
              "      <td>0.481633</td>\n",
              "      <td>0.444898</td>\n",
              "      <td>0.387755</td>\n",
              "      <td>0.322449</td>\n",
              "      <td>0.191837</td>\n",
              "      <td>...</td>\n",
              "      <td>0.0</td>\n",
              "      <td>0.0</td>\n",
              "      <td>0.0</td>\n",
              "      <td>0.0</td>\n",
              "      <td>0.0</td>\n",
              "      <td>0.0</td>\n",
              "      <td>0.0</td>\n",
              "      <td>0.0</td>\n",
              "      <td>0.0</td>\n",
              "      <td>4.0</td>\n",
              "    </tr>\n",
              "    <tr>\n",
              "      <th>87552</th>\n",
              "      <td>0.858228</td>\n",
              "      <td>0.645570</td>\n",
              "      <td>0.845570</td>\n",
              "      <td>0.248101</td>\n",
              "      <td>0.167089</td>\n",
              "      <td>0.131646</td>\n",
              "      <td>0.121519</td>\n",
              "      <td>0.121519</td>\n",
              "      <td>0.118987</td>\n",
              "      <td>0.103797</td>\n",
              "      <td>...</td>\n",
              "      <td>0.0</td>\n",
              "      <td>0.0</td>\n",
              "      <td>0.0</td>\n",
              "      <td>0.0</td>\n",
              "      <td>0.0</td>\n",
              "      <td>0.0</td>\n",
              "      <td>0.0</td>\n",
              "      <td>0.0</td>\n",
              "      <td>0.0</td>\n",
              "      <td>4.0</td>\n",
              "    </tr>\n",
              "    <tr>\n",
              "      <th>87553</th>\n",
              "      <td>0.901506</td>\n",
              "      <td>0.845886</td>\n",
              "      <td>0.800695</td>\n",
              "      <td>0.748552</td>\n",
              "      <td>0.687138</td>\n",
              "      <td>0.599073</td>\n",
              "      <td>0.512167</td>\n",
              "      <td>0.427578</td>\n",
              "      <td>0.395133</td>\n",
              "      <td>0.402086</td>\n",
              "      <td>...</td>\n",
              "      <td>0.0</td>\n",
              "      <td>0.0</td>\n",
              "      <td>0.0</td>\n",
              "      <td>0.0</td>\n",
              "      <td>0.0</td>\n",
              "      <td>0.0</td>\n",
              "      <td>0.0</td>\n",
              "      <td>0.0</td>\n",
              "      <td>0.0</td>\n",
              "      <td>4.0</td>\n",
              "    </tr>\n",
              "  </tbody>\n",
              "</table>\n",
              "<p>87554 rows × 188 columns</p>\n",
              "</div>\n",
              "    <div class=\"colab-df-buttons\">\n",
              "\n",
              "  <div class=\"colab-df-container\">\n",
              "    <button class=\"colab-df-convert\" onclick=\"convertToInteractive('df-b58be746-6b9c-4883-8449-a386ed78af67')\"\n",
              "            title=\"Convert this dataframe to an interactive table.\"\n",
              "            style=\"display:none;\">\n",
              "\n",
              "  <svg xmlns=\"http://www.w3.org/2000/svg\" height=\"24px\" viewBox=\"0 -960 960 960\">\n",
              "    <path d=\"M120-120v-720h720v720H120Zm60-500h600v-160H180v160Zm220 220h160v-160H400v160Zm0 220h160v-160H400v160ZM180-400h160v-160H180v160Zm440 0h160v-160H620v160ZM180-180h160v-160H180v160Zm440 0h160v-160H620v160Z\"/>\n",
              "  </svg>\n",
              "    </button>\n",
              "\n",
              "  <style>\n",
              "    .colab-df-container {\n",
              "      display:flex;\n",
              "      gap: 12px;\n",
              "    }\n",
              "\n",
              "    .colab-df-convert {\n",
              "      background-color: #E8F0FE;\n",
              "      border: none;\n",
              "      border-radius: 50%;\n",
              "      cursor: pointer;\n",
              "      display: none;\n",
              "      fill: #1967D2;\n",
              "      height: 32px;\n",
              "      padding: 0 0 0 0;\n",
              "      width: 32px;\n",
              "    }\n",
              "\n",
              "    .colab-df-convert:hover {\n",
              "      background-color: #E2EBFA;\n",
              "      box-shadow: 0px 1px 2px rgba(60, 64, 67, 0.3), 0px 1px 3px 1px rgba(60, 64, 67, 0.15);\n",
              "      fill: #174EA6;\n",
              "    }\n",
              "\n",
              "    .colab-df-buttons div {\n",
              "      margin-bottom: 4px;\n",
              "    }\n",
              "\n",
              "    [theme=dark] .colab-df-convert {\n",
              "      background-color: #3B4455;\n",
              "      fill: #D2E3FC;\n",
              "    }\n",
              "\n",
              "    [theme=dark] .colab-df-convert:hover {\n",
              "      background-color: #434B5C;\n",
              "      box-shadow: 0px 1px 3px 1px rgba(0, 0, 0, 0.15);\n",
              "      filter: drop-shadow(0px 1px 2px rgba(0, 0, 0, 0.3));\n",
              "      fill: #FFFFFF;\n",
              "    }\n",
              "  </style>\n",
              "\n",
              "    <script>\n",
              "      const buttonEl =\n",
              "        document.querySelector('#df-b58be746-6b9c-4883-8449-a386ed78af67 button.colab-df-convert');\n",
              "      buttonEl.style.display =\n",
              "        google.colab.kernel.accessAllowed ? 'block' : 'none';\n",
              "\n",
              "      async function convertToInteractive(key) {\n",
              "        const element = document.querySelector('#df-b58be746-6b9c-4883-8449-a386ed78af67');\n",
              "        const dataTable =\n",
              "          await google.colab.kernel.invokeFunction('convertToInteractive',\n",
              "                                                    [key], {});\n",
              "        if (!dataTable) return;\n",
              "\n",
              "        const docLinkHtml = 'Like what you see? Visit the ' +\n",
              "          '<a target=\"_blank\" href=https://colab.research.google.com/notebooks/data_table.ipynb>data table notebook</a>'\n",
              "          + ' to learn more about interactive tables.';\n",
              "        element.innerHTML = '';\n",
              "        dataTable['output_type'] = 'display_data';\n",
              "        await google.colab.output.renderOutput(dataTable, element);\n",
              "        const docLink = document.createElement('div');\n",
              "        docLink.innerHTML = docLinkHtml;\n",
              "        element.appendChild(docLink);\n",
              "      }\n",
              "    </script>\n",
              "  </div>\n",
              "\n",
              "\n",
              "<div id=\"df-0119a507-ada0-4ef8-bdfc-3ee2c47489b1\">\n",
              "  <button class=\"colab-df-quickchart\" onclick=\"quickchart('df-0119a507-ada0-4ef8-bdfc-3ee2c47489b1')\"\n",
              "            title=\"Suggest charts\"\n",
              "            style=\"display:none;\">\n",
              "\n",
              "<svg xmlns=\"http://www.w3.org/2000/svg\" height=\"24px\"viewBox=\"0 0 24 24\"\n",
              "     width=\"24px\">\n",
              "    <g>\n",
              "        <path d=\"M19 3H5c-1.1 0-2 .9-2 2v14c0 1.1.9 2 2 2h14c1.1 0 2-.9 2-2V5c0-1.1-.9-2-2-2zM9 17H7v-7h2v7zm4 0h-2V7h2v10zm4 0h-2v-4h2v4z\"/>\n",
              "    </g>\n",
              "</svg>\n",
              "  </button>\n",
              "\n",
              "<style>\n",
              "  .colab-df-quickchart {\n",
              "      --bg-color: #E8F0FE;\n",
              "      --fill-color: #1967D2;\n",
              "      --hover-bg-color: #E2EBFA;\n",
              "      --hover-fill-color: #174EA6;\n",
              "      --disabled-fill-color: #AAA;\n",
              "      --disabled-bg-color: #DDD;\n",
              "  }\n",
              "\n",
              "  [theme=dark] .colab-df-quickchart {\n",
              "      --bg-color: #3B4455;\n",
              "      --fill-color: #D2E3FC;\n",
              "      --hover-bg-color: #434B5C;\n",
              "      --hover-fill-color: #FFFFFF;\n",
              "      --disabled-bg-color: #3B4455;\n",
              "      --disabled-fill-color: #666;\n",
              "  }\n",
              "\n",
              "  .colab-df-quickchart {\n",
              "    background-color: var(--bg-color);\n",
              "    border: none;\n",
              "    border-radius: 50%;\n",
              "    cursor: pointer;\n",
              "    display: none;\n",
              "    fill: var(--fill-color);\n",
              "    height: 32px;\n",
              "    padding: 0;\n",
              "    width: 32px;\n",
              "  }\n",
              "\n",
              "  .colab-df-quickchart:hover {\n",
              "    background-color: var(--hover-bg-color);\n",
              "    box-shadow: 0 1px 2px rgba(60, 64, 67, 0.3), 0 1px 3px 1px rgba(60, 64, 67, 0.15);\n",
              "    fill: var(--button-hover-fill-color);\n",
              "  }\n",
              "\n",
              "  .colab-df-quickchart-complete:disabled,\n",
              "  .colab-df-quickchart-complete:disabled:hover {\n",
              "    background-color: var(--disabled-bg-color);\n",
              "    fill: var(--disabled-fill-color);\n",
              "    box-shadow: none;\n",
              "  }\n",
              "\n",
              "  .colab-df-spinner {\n",
              "    border: 2px solid var(--fill-color);\n",
              "    border-color: transparent;\n",
              "    border-bottom-color: var(--fill-color);\n",
              "    animation:\n",
              "      spin 1s steps(1) infinite;\n",
              "  }\n",
              "\n",
              "  @keyframes spin {\n",
              "    0% {\n",
              "      border-color: transparent;\n",
              "      border-bottom-color: var(--fill-color);\n",
              "      border-left-color: var(--fill-color);\n",
              "    }\n",
              "    20% {\n",
              "      border-color: transparent;\n",
              "      border-left-color: var(--fill-color);\n",
              "      border-top-color: var(--fill-color);\n",
              "    }\n",
              "    30% {\n",
              "      border-color: transparent;\n",
              "      border-left-color: var(--fill-color);\n",
              "      border-top-color: var(--fill-color);\n",
              "      border-right-color: var(--fill-color);\n",
              "    }\n",
              "    40% {\n",
              "      border-color: transparent;\n",
              "      border-right-color: var(--fill-color);\n",
              "      border-top-color: var(--fill-color);\n",
              "    }\n",
              "    60% {\n",
              "      border-color: transparent;\n",
              "      border-right-color: var(--fill-color);\n",
              "    }\n",
              "    80% {\n",
              "      border-color: transparent;\n",
              "      border-right-color: var(--fill-color);\n",
              "      border-bottom-color: var(--fill-color);\n",
              "    }\n",
              "    90% {\n",
              "      border-color: transparent;\n",
              "      border-bottom-color: var(--fill-color);\n",
              "    }\n",
              "  }\n",
              "</style>\n",
              "\n",
              "  <script>\n",
              "    async function quickchart(key) {\n",
              "      const quickchartButtonEl =\n",
              "        document.querySelector('#' + key + ' button');\n",
              "      quickchartButtonEl.disabled = true;  // To prevent multiple clicks.\n",
              "      quickchartButtonEl.classList.add('colab-df-spinner');\n",
              "      try {\n",
              "        const charts = await google.colab.kernel.invokeFunction(\n",
              "            'suggestCharts', [key], {});\n",
              "      } catch (error) {\n",
              "        console.error('Error during call to suggestCharts:', error);\n",
              "      }\n",
              "      quickchartButtonEl.classList.remove('colab-df-spinner');\n",
              "      quickchartButtonEl.classList.add('colab-df-quickchart-complete');\n",
              "    }\n",
              "    (() => {\n",
              "      let quickchartButtonEl =\n",
              "        document.querySelector('#df-0119a507-ada0-4ef8-bdfc-3ee2c47489b1 button');\n",
              "      quickchartButtonEl.style.display =\n",
              "        google.colab.kernel.accessAllowed ? 'block' : 'none';\n",
              "    })();\n",
              "  </script>\n",
              "</div>\n",
              "    </div>\n",
              "  </div>\n"
            ],
            "application/vnd.google.colaboratory.intrinsic+json": {
              "type": "dataframe",
              "variable_name": "df_train"
            }
          },
          "metadata": {},
          "execution_count": 6
        }
      ]
    },
    {
      "cell_type": "markdown",
      "source": [
        "The distribution of classes in our dataset is significantly imbalanced, highlighting a crucial consideration in model evaluation. Relying solely on accuracy as a metric may not provide an accurate reflection of the model's performance, as it could be disproportionately influenced by the majority class. To address this imbalance, we need to explore alternative evaluation metrics and strategies. Augmenting the minority classes is one viable approach to mitigate this issue, but others can be considered (e.g., using class weights in the evaluation of the loss function)."
      ],
      "metadata": {
        "id": "tTGJ3FyBxeLV"
      }
    },
    {
      "cell_type": "code",
      "source": [
        "# From label index to label name.\n",
        "labels_map = {\n",
        "    0: 'N', # Normal\n",
        "    1: 'S', # Fusion of paced and normal\n",
        "    2: 'V', # Premature ventricular contraction\n",
        "    3: 'F', # Atrial premature\n",
        "    4: 'Q'  # Fusion of ventricular and normal\n",
        "}\n",
        "\n",
        "# Plot distributions.\n",
        "fig, ax = plt.subplots(1, 2, figsize=(11, 4))\n",
        "sns.countplot(x=df_train[df_train.shape[1] - 1], ax=ax[0])\n",
        "sns.countplot(x=df_test[df_test.shape[1] - 1], ax=ax[1])\n",
        "ax[0].set_title('Training')\n",
        "ax[0].set_xlabel('Class')\n",
        "ax[0].set_ylabel('Count')\n",
        "ax[0].set_xticks(list(labels_map.keys()))\n",
        "ax[0].set_xticklabels(list(labels_map.values()))\n",
        "ax[1].set_title('Test')\n",
        "ax[1].set_xlabel('Class')\n",
        "ax[1].set_ylabel('Count')\n",
        "ax[1].set_xticks(list(labels_map.keys()))\n",
        "ax[1].set_xticklabels(list(labels_map.values()))\n",
        "plt.show()"
      ],
      "metadata": {
        "colab": {
          "base_uri": "https://localhost:8080/",
          "height": 410
        },
        "id": "51dOb7HXqQ9M",
        "outputId": "7fa07fc5-1173-4ce9-cabd-6a60f1c0a4dd"
      },
      "execution_count": 7,
      "outputs": [
        {
          "output_type": "display_data",
          "data": {
            "text/plain": [
              "<Figure size 1100x400 with 2 Axes>"
            ],
            "image/png": "[encoded data removed]"
          },
          "metadata": {}
        }
      ]
    },
    {
      "cell_type": "markdown",
      "source": [
        "The purpose of plotting sample data is to visually inspect the waveform patterns associated with different cardiac rhythms represented by the labels. This allows for a qualitative assessment of the data distribution and can aid in understanding the characteristics of each rhythm type.\n",
        "\n",
        "Each subplot in the grid represents a random sample from the dataset, with the waveform plotted on the y-axis and the sample index on the x-axis. The title of each subplot indicates the corresponding cardiac rhythm type based on the label mapping, providing context for the displayed waveform."
      ],
      "metadata": {
        "id": "1LslBECDxpQe"
      }
    },
    {
      "cell_type": "code",
      "source": [
        "# Plot some data.\n",
        "rows, cols = 3, 3\n",
        "fig, ax = plt.subplots(rows, cols, figsize=(10, 7), sharex=True, sharey=True)\n",
        "for r in range(rows):\n",
        "    for c in range(cols):\n",
        "        sample = df_train.sample(1).values.flatten()\n",
        "        y = labels_map[sample[-1]]\n",
        "        ax[r, c].plot(sample[:-1])\n",
        "        ax[r, c].set_title(y)\n",
        "plt.show()"
      ],
      "metadata": {
        "colab": {
          "base_uri": "https://localhost:8080/",
          "height": 622
        },
        "id": "BcmVvBn3cOxh",
        "outputId": "d5811f3f-020c-4a81-f527-a2ea79cd39cc"
      },
      "execution_count": 8,
      "outputs": [
        {
          "output_type": "display_data",
          "data": {
            "text/plain": [
              "<Figure size 1000x700 with 9 Axes>"
            ],
            "image/png": "[encoded data removed]"
          },
          "metadata": {}
        }
      ]
    },
    {
      "cell_type": "markdown",
      "source": [
        "### Data Preprocessing and Augmentation"
      ],
      "metadata": {
        "id": "LNd8YquKcC24"
      }
    },
    {
      "cell_type": "markdown",
      "source": [
        "This code cell defines three classes (`Stretch`, `Amplify`, and `Augment`) for randomly augmenting input signals. Each class implements a different signal augmentation technique:\n",
        "\n",
        "- The `Stretch` class randomly stretches the input signal by resampling it to a new length. The stretching factor is randomly chosen within a certain range. The length of the stretched signal is either shorter or longer than the original signal, but then gets cropped to be of the same length of the original signal.\n",
        "\n",
        "- The `Amplify` class randomly amplifies the input signal by applying a random scaling factor. The scaling factor is determined by a random value between $-0.5$ and $0.5$, which controls the degree of amplification.\n",
        "\n",
        "- The `Augment` class combines multiple augmentation techniques specified in the `aug_list`. During the augmentation process, each augmentation technique in the list is randomly applied to the input signal with a $50\\%$ probability."
      ],
      "metadata": {
        "id": "iwkUZPVlyaf_"
      }
    },
    {
      "cell_type": "code",
      "source": [
        "# Randomly stretches the signal.\n",
        "class Stretch:\n",
        "    def __init__(self):\n",
        "        pass\n",
        "\n",
        "    def __call__(self, x):\n",
        "        n = x.shape[0]\n",
        "        l = int(n * (1 + (random.random() - 0.5) / 3))\n",
        "        y = resample(x, l)\n",
        "        if l < n:\n",
        "            y_ = np.zeros(shape=(n,))\n",
        "            y_[:l] = y\n",
        "        else:\n",
        "            y_ = y[:n]\n",
        "        return y_\n",
        "\n",
        "    def __repr__(self):\n",
        "        return 'Stretch'\n",
        "\n",
        "# Randomly amplifies the signal.\n",
        "class Amplify:\n",
        "    def __init__(self):\n",
        "        pass\n",
        "\n",
        "    def __call__(self, x):\n",
        "        alpha = (random.random() - 0.5)\n",
        "        factor = -alpha * x + (1 + alpha)\n",
        "        return x * factor\n",
        "\n",
        "    def __repr__(self):\n",
        "        return 'Amplify'\n",
        "\n",
        "# Randomly augments the input signal.\n",
        "class Augment:\n",
        "    def __init__(self, aug_list, verbose=False):\n",
        "        self.aug_list = aug_list\n",
        "        self.verbose = verbose\n",
        "\n",
        "    def __call__(self, x):\n",
        "        augs = ''\n",
        "        for i, aug in enumerate(self.aug_list):\n",
        "            if np.random.binomial(1, 0.5) == 1:\n",
        "                x = aug(x)\n",
        "                augs += f'{aug}, ' if i < len(self.aug_list) - 1 else f'{aug}'\n",
        "        if not self.verbose:\n",
        "            return x\n",
        "        return x, augs"
      ],
      "metadata": {
        "id": "bpnjA1aJcEhH"
      },
      "execution_count": 9,
      "outputs": []
    },
    {
      "cell_type": "markdown",
      "source": [
        "An instance of the `Augment` class is created, and signal augmentations are applied to sample data from the training dataset. The augmented samples are then plotted alongside the original samples to visualize the effects of the augmentation techniques."
      ],
      "metadata": {
        "id": "9AYDn1a5zRym"
      }
    },
    {
      "cell_type": "code",
      "source": [
        "# New Augment object.\n",
        "augment = Augment([Amplify(), Stretch()], True)\n",
        "\n",
        "# Plot augmentations.\n",
        "rows, cols = 3, 3\n",
        "fig, ax = plt.subplots(rows, cols, figsize=(10, 7), sharex=True, sharey=True)\n",
        "for r in range(rows):\n",
        "    for c in range(cols):\n",
        "        sample = df_train.sample(1).values.flatten()\n",
        "        aug_sample, augs = augment(sample[:-1])\n",
        "        y = labels_map[sample[-1]]\n",
        "        ax[r, c].plot(sample[:-1])\n",
        "        ax[r, c].plot(aug_sample[:-1])\n",
        "        ax[r, c].set_title(augs if augs != '' else 'None')\n",
        "plt.legend(['Original', 'Augmented'])\n",
        "plt.show()"
      ],
      "metadata": {
        "colab": {
          "base_uri": "https://localhost:8080/",
          "height": 622
        },
        "id": "eYflo3l2gU_2",
        "outputId": "7c3eea3c-278e-457b-b371-8f32d6bb6289"
      },
      "execution_count": 10,
      "outputs": [
        {
          "output_type": "display_data",
          "data": {
            "text/plain": [
              "<Figure size 1000x700 with 9 Axes>"
            ],
            "image/png": "[encoded data removed]"
          },
          "metadata": {}
        }
      ]
    },
    {
      "cell_type": "markdown",
      "source": [
        " The data processing pipeline is set up for training and testing a neural network model using PyTorch. This includes defining the batch size and creating `Dataset` plus `DataLoader` objects for both training and testing datasets."
      ],
      "metadata": {
        "id": "Mp2Vov-T0fL1"
      }
    },
    {
      "cell_type": "code",
      "source": [
        "# Batch size.\n",
        "batch_size = 64\n",
        "\n",
        "# New Augment object.\n",
        "augment = Augment([Amplify(), Stretch()])\n",
        "\n",
        "# Creating the Dataset objects.\n",
        "train_dataset = CustomDataset(df_train.iloc[:, :-1], df_train.iloc[:, -1], transforms=augment)\n",
        "test_dataset = CustomDataset(df_test.iloc[:, :-1], df_test.iloc[:, -1])\n",
        "\n",
        "# Creating the DataLoader objects.\n",
        "train_loader = DataLoader(train_dataset, batch_size=batch_size, shuffle=True)\n",
        "test_loader = DataLoader(test_dataset, batch_size=batch_size)"
      ],
      "metadata": {
        "id": "8DwKsTEHmm_c"
      },
      "execution_count": 11,
      "outputs": []
    },
    {
      "cell_type": "markdown",
      "source": [
        "In order to feed the input data to an RNN model, we need each time-series to be tensors in $\\mathbb{R}^{S \\times H_{in}}$, where $S = 187$ represents the sequence length and $H_{in} = 1$ represents the input size. Indeed, our time-series consider one real value at each possible time-step. Thus, each batch of data will be a tensor in $\\mathbb{R}^{N \\times S \\times H_{in}}$, where $N$ is the chosen batch size."
      ],
      "metadata": {
        "id": "_V5qvTUt05rP"
      }
    },
    {
      "cell_type": "code",
      "source": [
        "# Print the shape of a batch.\n",
        "for x, y in train_loader:\n",
        "    print(f'x: {x.shape}, y: {y.shape}')\n",
        "    break"
      ],
      "metadata": {
        "colab": {
          "base_uri": "https://localhost:8080/"
        },
        "id": "z1StkwH30BXz",
        "outputId": "54d9b2c1-bd26-46a5-a971-68b629f4fd3a"
      },
      "execution_count": 12,
      "outputs": [
        {
          "output_type": "stream",
          "name": "stdout",
          "text": [
            "x: torch.Size([64, 187, 1]), y: torch.Size([64])\n"
          ]
        }
      ]
    },
    {
      "cell_type": "markdown",
      "source": [
        "## Model Definition"
      ],
      "metadata": {
        "id": "ou2C8Qi2bEfn"
      }
    },
    {
      "cell_type": "markdown",
      "source": [
        "First, we set up our system to utilize a GPU if available. Remember, every time you want to train of test a model, both the input data and the model must be on the same device. In general, `torch.tensor` objects and `nn.Module` objects can be moved to the proper device using `.to(device)`."
      ],
      "metadata": {
        "id": "ddz5tVJv8qMw"
      }
    },
    {
      "cell_type": "code",
      "source": [
        "# Device configuration.\n",
        "device = torch.device('cuda' if torch.cuda.is_available() else 'cpu')"
      ],
      "metadata": {
        "id": "JvUG3uNlvQIR"
      },
      "execution_count": 13,
      "outputs": []
    },
    {
      "cell_type": "markdown",
      "source": [
        "Then, we define a few key parameters:\n",
        "- The input size $H_{in}$ (`input_size`).\n",
        "- The hidden size $H_{cell}$ (`hidden_size`).\n",
        "- The number of RNN layers (`num_layers`).\n",
        "- The number of classes we're working with (`num_classes`)."
      ],
      "metadata": {
        "id": "GgR1utR_8s98"
      }
    },
    {
      "cell_type": "code",
      "source": [
        "# Model hyperparameters.\n",
        "input_size = 1\n",
        "hidden_size = 32\n",
        "num_layers = 2\n",
        "num_classes = 5"
      ],
      "metadata": {
        "id": "xR4KDcC7vXTw"
      },
      "execution_count": 14,
      "outputs": []
    },
    {
      "cell_type": "markdown",
      "source": [
        "The following code cell implements the class used to define a Long Short-Term Memory (LSTM) model.\n",
        "\n",
        "In particular, LSTM is a type of recurrent neural network architecture designed to overcome the limitations of traditional RNNs in capturing long-term dependencies in sequential data.\n",
        "\n",
        "LSTMs contain a **cell state**, $c_t$, and a **hidden state**, $h_t$. The cell state is modified by proper mechanisms, known as **gates**, and acts as a form of long-term memory, facilitating the capture of temporal dependencies in the data. The hidden state, also known as the output state, captures the relevant information from the cell state and outputs it to the subsequent layers or the final output layer of the network. The hidden state encapsulates the network's understanding of the input sequence up to the current time step.\n",
        "\n",
        "LSTMs utilize specialized gates to control the flow of information through the network. These gates include:\n",
        "- **Forget Gate**. Determines which information from the previous cell state should be discarded or forgotten.\n",
        "- **Input Gate**. Modulates the amount of new information to be added to the cell state.\n",
        "- **Output Gate**. Regulates the information to be output from the current cell state.\n",
        "\n",
        "In particular:\n",
        "\n",
        "- The content of the input, forget and output gates can be computed as:\n",
        "\n",
        "$$\n",
        "i_t = \\sigma(W_{ii} x_t + b_{ii} + W_{hi} x_{t - 1} + b_{hi}) \\\\\n",
        "f_t = \\sigma(W_{if} x_t + b_{if} + W_{hf} x_{t - 1} + b_{hf}) \\\\\n",
        "o_t = \\sigma(W_{io} x_t + b_{io} + W_{ho} x_{t - 1} + b_{ho}) \\\\\n",
        "$$\n",
        "\n",
        "- An initial proposal for the new cell state can be compued as:\n",
        "\n",
        "$$\n",
        "\\tilde{c}_t = \\text{tanh}(W_{i\\tilde{c}} x_t + b_{i\\tilde{c}} + W_{h\\tilde{c}} x_{t - 1} + b_{h\\tilde{c}})\n",
        "$$\n",
        "\n",
        "- The cell state is updated taking into consideration $i_t$, $f_t$ and $\\tilde{c}_t$. More specifically, the forget gate controls what to forget about $c_{t - 1}$, while the input gate controls what to consider from $\\tilde{c}_t$.\n",
        "\n",
        "$$\n",
        "c_t = f_t \\odot c_{t - 1} + i_t \\odot \\tilde{c}_{t}\n",
        "$$\n",
        "\n",
        "- Lastly, the hidden state can be computed considering the output gate, $o_t$ and the cell state, $c_t$:\n",
        "\n",
        "$$\n",
        "h_t = o_t \\odot \\text{tanh}(c_t)\n",
        "$$\n",
        "\n",
        "Here, The model architecture we consider consists of `num_layers` (namely, two) LSTM layers followed by a fully connected layer that produces the classification result.\n",
        "\n",
        "The fully connected layer only considers the last output from the LSTM layers to compute the classification scores:\n",
        "\n",
        "![image.png](data:image/png;base64,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)"
      ],
      "metadata": {
        "id": "uIjLVHbA9R1B"
      }
    },
    {
      "cell_type": "code",
      "source": [
        "class LSTM(nn.Module):\n",
        "    def __init__(self, input_size, hidden_size, num_layers, num_classes):\n",
        "        super(LSTM, self).__init__()\n",
        "        self.hidden_size = hidden_size\n",
        "        self.num_layers = num_layers\n",
        "        self.lstm = nn.LSTM(input_size, hidden_size, num_layers, batch_first=True)\n",
        "        self.fc = nn.Linear(hidden_size, num_classes)\n",
        "\n",
        "    def forward(self, x):\n",
        "        h0 = torch.zeros(self.num_layers, x.size(0), self.hidden_size).to(device)\n",
        "        c0 = torch.zeros(self.num_layers, x.size(0), self.hidden_size).to(device)\n",
        "        out, _ = self.lstm(x, (h0, c0))  # out: (batch size, seq length, hidden size)\n",
        "        out = self.fc(out[:, -1, :]) # out: (batch size, num classes)\n",
        "        return out\n",
        "\n",
        "# New model.\n",
        "model = LSTM(input_size, hidden_size, num_layers, num_classes).to(device)"
      ],
      "metadata": {
        "id": "i_hvbU-GbI23"
      },
      "execution_count": 15,
      "outputs": []
    },
    {
      "cell_type": "markdown",
      "source": [
        "## Training and Test"
      ],
      "metadata": {
        "id": "9mUYWqnYbJBZ"
      }
    },
    {
      "cell_type": "markdown",
      "source": [
        "We define few other parameters:\n",
        "- The duration of training (`num_epochs`).\n",
        "- The pace at which our model learns (`learning_rate`)."
      ],
      "metadata": {
        "id": "xQy7MXAL8yQt"
      }
    },
    {
      "cell_type": "code",
      "source": [
        "# Training hyperparameters.\n",
        "num_epochs = 10\n",
        "learning_rate = 0.0001"
      ],
      "metadata": {
        "id": "OkSRaX0YvwUV"
      },
      "execution_count": 16,
      "outputs": []
    },
    {
      "cell_type": "markdown",
      "source": [
        "We define the loss function using `nn.CrossEntropyLoss`, a suitable choice for multiclass classification tasks like ours. This function quantifies the disparity between the predicted class probabilities and the actual class labels.\n",
        "\n",
        "Moving on to optimization, we employ the Adam optimizer, a popular choice for its adaptive learning rate properties.\n",
        "\n",
        "We finally train and test the model for ten epochs. At the end of each epoch we print both the training and test loss, as well as the test accuracy and test F1-score."
      ],
      "metadata": {
        "id": "DRsJIkz-FEI0"
      }
    },
    {
      "cell_type": "code",
      "source": [
        "# Loss and optimizer.\n",
        "criterion = nn.CrossEntropyLoss()\n",
        "optimizer = torch.optim.Adam(model.parameters(), lr=learning_rate)\n",
        "\n",
        "# Training and test.\n",
        "for epoch in range(num_epochs):\n",
        "    train_loss = train(epoch, model, train_loader, criterion, optimizer, device)\n",
        "    test_loss, test_acc, test_f1, y_true, y_pred = test(model, test_loader, criterion, device)\n",
        "    print(f'Epoch {epoch+1:03d}: training loss {train_loss:.4f}, test loss {test_loss:.4f}, test acc {test_acc:.4f}, test f1 {test_f1:.4f}')"
      ],
      "metadata": {
        "id": "wkuufTIRbLkK",
        "colab": {
          "base_uri": "https://localhost:8080/"
        },
        "outputId": "5774d086-ee22-473b-d394-2f9a0d191486"
      },
      "execution_count": 17,
      "outputs": [
        {
          "output_type": "stream",
          "name": "stderr",
          "text": [
            "Epoch 001: 100%|██████████| 1369/1369 [01:35<00:00, 14.39it/s]\n"
          ]
        },
        {
          "output_type": "stream",
          "name": "stdout",
          "text": [
            "Epoch 001: training loss 1069.3953, test loss 227.4504, test acc 0.8276, test f1 0.1811\n"
          ]
        },
        {
          "output_type": "stream",
          "name": "stderr",
          "text": [
            "Epoch 002: 100%|██████████| 1369/1369 [01:38<00:00, 13.87it/s]\n"
          ]
        },
        {
          "output_type": "stream",
          "name": "stdout",
          "text": [
            "Epoch 002: training loss 899.2069, test loss 227.1748, test acc 0.8276, test f1 0.1811\n"
          ]
        },
        {
          "output_type": "stream",
          "name": "stderr",
          "text": [
            "Epoch 003: 100%|██████████| 1369/1369 [01:33<00:00, 14.59it/s]\n"
          ]
        },
        {
          "output_type": "stream",
          "name": "stdout",
          "text": [
            "Epoch 003: training loss 896.1603, test loss 225.1575, test acc 0.8276, test f1 0.1811\n"
          ]
        },
        {
          "output_type": "stream",
          "name": "stderr",
          "text": [
            "Epoch 004: 100%|██████████| 1369/1369 [01:24<00:00, 16.27it/s]\n"
          ]
        },
        {
          "output_type": "stream",
          "name": "stdout",
          "text": [
            "Epoch 004: training loss 872.1251, test loss 210.0717, test acc 0.8276, test f1 0.1811\n"
          ]
        },
        {
          "output_type": "stream",
          "name": "stderr",
          "text": [
            "Epoch 005: 100%|██████████| 1369/1369 [01:30<00:00, 15.07it/s]\n"
          ]
        },
        {
          "output_type": "stream",
          "name": "stdout",
          "text": [
            "Epoch 005: training loss 822.3733, test loss 202.5472, test acc 0.8276, test f1 0.1811\n"
          ]
        },
        {
          "output_type": "stream",
          "name": "stderr",
          "text": [
            "Epoch 006: 100%|██████████| 1369/1369 [01:13<00:00, 18.54it/s]\n"
          ]
        },
        {
          "output_type": "stream",
          "name": "stdout",
          "text": [
            "Epoch 006: training loss 808.3528, test loss 197.1135, test acc 0.8276, test f1 0.1811\n"
          ]
        },
        {
          "output_type": "stream",
          "name": "stderr",
          "text": [
            "Epoch 007: 100%|██████████| 1369/1369 [01:13<00:00, 18.63it/s]\n"
          ]
        },
        {
          "output_type": "stream",
          "name": "stdout",
          "text": [
            "Epoch 007: training loss 796.9513, test loss 193.9910, test acc 0.8276, test f1 0.1811\n"
          ]
        },
        {
          "output_type": "stream",
          "name": "stderr",
          "text": [
            "Epoch 008: 100%|██████████| 1369/1369 [01:13<00:00, 18.67it/s]\n"
          ]
        },
        {
          "output_type": "stream",
          "name": "stdout",
          "text": [
            "Epoch 008: training loss 809.3642, test loss 193.6179, test acc 0.8276, test f1 0.1811\n"
          ]
        },
        {
          "output_type": "stream",
          "name": "stderr",
          "text": [
            "Epoch 009: 100%|██████████| 1369/1369 [01:14<00:00, 18.26it/s]\n"
          ]
        },
        {
          "output_type": "stream",
          "name": "stdout",
          "text": [
            "Epoch 009: training loss 799.2958, test loss 196.5025, test acc 0.8276, test f1 0.1811\n"
          ]
        },
        {
          "output_type": "stream",
          "name": "stderr",
          "text": [
            "Epoch 010: 100%|██████████| 1369/1369 [01:12<00:00, 18.86it/s]\n"
          ]
        },
        {
          "output_type": "stream",
          "name": "stdout",
          "text": [
            "Epoch 010: training loss 791.3802, test loss 195.4708, test acc 0.8276, test f1 0.1811\n"
          ]
        }
      ]
    },
    {
      "cell_type": "markdown",
      "source": [
        "Given the class imbalance in our training dataset, it's crucial to recognize that accuracy alone may not be the most suitable metric for evaluating our model's performance. The dataset exhibits varying class frequencies, leading to a situation where the majority class might dominate the accuracy metric, potentially masking the model's performance on minority classes. As a result, we need to complement accuracy with other metrics. In this case, we mainly focus on the macro F1-score.\n",
        "\n",
        "Here, it is possible to notice how all samples belonging to all minority classes are miss-classified. This means that our model always outputs $0$."
      ],
      "metadata": {
        "id": "aIV88VgjFSxT"
      }
    },
    {
      "cell_type": "code",
      "source": [
        "print(classification_report(y_true, y_pred, zero_division=0))"
      ],
      "metadata": {
        "id": "Qx30pRBrwo54",
        "colab": {
          "base_uri": "https://localhost:8080/"
        },
        "outputId": "de1a2070-3cba-4fed-cb42-bb76487a65bf"
      },
      "execution_count": 18,
      "outputs": [
        {
          "output_type": "stream",
          "name": "stdout",
          "text": [
            "              precision    recall  f1-score   support\n",
            "\n",
            "           0       0.83      1.00      0.91     18118\n",
            "           1       0.00      0.00      0.00       556\n",
            "           2       0.00      0.00      0.00      1448\n",
            "           3       0.00      0.00      0.00       162\n",
            "           4       0.00      0.00      0.00      1608\n",
            "\n",
            "    accuracy                           0.83     21892\n",
            "   macro avg       0.17      0.20      0.18     21892\n",
            "weighted avg       0.68      0.83      0.75     21892\n",
            "\n"
          ]
        }
      ]
    },
    {
      "cell_type": "markdown",
      "source": [
        "In the following code cell, a particular strategy is employed to address the imbalanced nature of dataset during the training phase. To rectify the potential bias introduced by the disproportionate class distribution, the code leverages PyTorch's `WeightedRandomSampler`.\n",
        "\n",
        "It begins by extracting the labels of the training dataset, forming a list of training targets. Subsequently, class weights are computed using the `compute_class_weight` function from scikit-learn, with the `'balanced'` option ensuring that weights are assigned inversely proportional to class frequencies. These weights are then applied to each individual image in the training set, creating a set of weights that mirrors the distribution of the classes.\n",
        "\n",
        "The `WeightedRandomSampler` utilizes these weights to create a sampling strategy for the training dataset. By assigning higher probabilities to instances from minority classes, this sampler ensures that the model is exposed to a more balanced representation during training. This technique essentially emulates data augmentation for minority classes."
      ],
      "metadata": {
        "id": "J9oA4-rUFqr0"
      }
    },
    {
      "cell_type": "code",
      "source": [
        "# List of training labels.\n",
        "train_targets = list(df_train[df_train.shape[1] - 1])\n",
        "\n",
        "# Computing class weights based on class frequency.\n",
        "cls_weights = torch.from_numpy(compute_class_weight('balanced',\n",
        "                                                    classes=np.unique(train_targets),\n",
        "                                                    y=train_targets))\n",
        "\n",
        "# Resulting array of weights.\n",
        "weights = cls_weights[train_targets]\n",
        "\n",
        "# Weighted random sampler. Used to consider copies of minority classes.\n",
        "sampler = torch.utils.data.WeightedRandomSampler(weights,\n",
        "                                                 len(train_targets),\n",
        "                                                 replacement=True)\n",
        "\n",
        "# Train loader.\n",
        "train_loader = DataLoader(train_dataset, sampler=sampler, batch_size=batch_size)"
      ],
      "metadata": {
        "id": "V7YSB0zb0_1x"
      },
      "execution_count": 19,
      "outputs": []
    },
    {
      "cell_type": "markdown",
      "source": [
        "Once the new training loader is computed, a new model is trained for ten epochs and its test performances are evaluated."
      ],
      "metadata": {
        "id": "41ujyCPtFtwq"
      }
    },
    {
      "cell_type": "code",
      "source": [
        "# New model.\n",
        "model = LSTM(input_size, hidden_size, num_layers, num_classes).to(device)\n",
        "\n",
        "# Loss and optimizer.\n",
        "criterion = nn.CrossEntropyLoss()\n",
        "optimizer = torch.optim.Adam(model.parameters(), lr=learning_rate)\n",
        "\n",
        "# Training and test.\n",
        "for epoch in range(num_epochs):\n",
        "    train_loss = train(epoch, model, train_loader, criterion, optimizer, device)\n",
        "    test_loss, test_acc, test_f1, y_true, y_pred = test(model, test_loader, criterion, device)\n",
        "    print(f'Epoch {epoch+1:03d}: training loss {train_loss:.4f}, test loss {test_loss:.4f}, test acc {test_acc:.4f}, test f1 {test_f1:.4f}')"
      ],
      "metadata": {
        "id": "Ec3g0Ozq9N0x",
        "colab": {
          "base_uri": "https://localhost:8080/"
        },
        "outputId": "3cc57f4a-569c-4006-d097-c10695e3748b"
      },
      "execution_count": 20,
      "outputs": [
        {
          "output_type": "stream",
          "name": "stderr",
          "text": [
            "Epoch 001: 100%|██████████| 1369/1369 [01:35<00:00, 14.32it/s]\n"
          ]
        },
        {
          "output_type": "stream",
          "name": "stdout",
          "text": [
            "Epoch 001: training loss 2201.4351, test loss 548.5988, test acc 0.0800, test f1 0.0634\n"
          ]
        },
        {
          "output_type": "stream",
          "name": "stderr",
          "text": [
            "Epoch 002: 100%|██████████| 1369/1369 [01:26<00:00, 15.81it/s]\n"
          ]
        },
        {
          "output_type": "stream",
          "name": "stdout",
          "text": [
            "Epoch 002: training loss 1886.1914, test loss 510.2562, test acc 0.3069, test f1 0.1972\n"
          ]
        },
        {
          "output_type": "stream",
          "name": "stderr",
          "text": [
            "Epoch 003: 100%|██████████| 1369/1369 [01:34<00:00, 14.46it/s]\n"
          ]
        },
        {
          "output_type": "stream",
          "name": "stdout",
          "text": [
            "Epoch 003: training loss 1757.6223, test loss 496.2713, test acc 0.3672, test f1 0.2327\n"
          ]
        },
        {
          "output_type": "stream",
          "name": "stderr",
          "text": [
            "Epoch 004: 100%|██████████| 1369/1369 [01:47<00:00, 12.77it/s]\n"
          ]
        },
        {
          "output_type": "stream",
          "name": "stdout",
          "text": [
            "Epoch 004: training loss 1742.8685, test loss 490.5275, test acc 0.3662, test f1 0.2361\n"
          ]
        },
        {
          "output_type": "stream",
          "name": "stderr",
          "text": [
            "Epoch 005: 100%|██████████| 1369/1369 [01:36<00:00, 14.24it/s]\n"
          ]
        },
        {
          "output_type": "stream",
          "name": "stdout",
          "text": [
            "Epoch 005: training loss 1713.5155, test loss 508.7764, test acc 0.3201, test f1 0.2190\n"
          ]
        },
        {
          "output_type": "stream",
          "name": "stderr",
          "text": [
            "Epoch 006: 100%|██████████| 1369/1369 [01:37<00:00, 14.04it/s]\n"
          ]
        },
        {
          "output_type": "stream",
          "name": "stdout",
          "text": [
            "Epoch 006: training loss 1695.3843, test loss 496.4974, test acc 0.2978, test f1 0.2124\n"
          ]
        },
        {
          "output_type": "stream",
          "name": "stderr",
          "text": [
            "Epoch 007: 100%|██████████| 1369/1369 [01:35<00:00, 14.34it/s]\n"
          ]
        },
        {
          "output_type": "stream",
          "name": "stdout",
          "text": [
            "Epoch 007: training loss 1689.3213, test loss 488.8855, test acc 0.3206, test f1 0.2221\n"
          ]
        },
        {
          "output_type": "stream",
          "name": "stderr",
          "text": [
            "Epoch 008: 100%|██████████| 1369/1369 [01:27<00:00, 15.56it/s]\n"
          ]
        },
        {
          "output_type": "stream",
          "name": "stdout",
          "text": [
            "Epoch 008: training loss 1688.9004, test loss 507.7215, test acc 0.3350, test f1 0.2296\n"
          ]
        },
        {
          "output_type": "stream",
          "name": "stderr",
          "text": [
            "Epoch 009: 100%|██████████| 1369/1369 [01:36<00:00, 14.14it/s]\n"
          ]
        },
        {
          "output_type": "stream",
          "name": "stdout",
          "text": [
            "Epoch 009: training loss 1686.4802, test loss 488.4962, test acc 0.2992, test f1 0.2153\n"
          ]
        },
        {
          "output_type": "stream",
          "name": "stderr",
          "text": [
            "Epoch 010: 100%|██████████| 1369/1369 [01:19<00:00, 17.17it/s]\n"
          ]
        },
        {
          "output_type": "stream",
          "name": "stdout",
          "text": [
            "Epoch 010: training loss 1986.3058, test loss 492.9639, test acc 0.3959, test f1 0.2236\n"
          ]
        }
      ]
    },
    {
      "cell_type": "markdown",
      "source": [
        "Despite a drop in accuracy, our model is now able to correctly classify some of the samples belonging to minority classes. In general, these scores are not good, but this shows how one can use data augmentation to deal with unbalanced datasets."
      ],
      "metadata": {
        "id": "H9QT54DrF0Wp"
      }
    },
    {
      "cell_type": "code",
      "source": [
        "print(classification_report(y_true, y_pred, zero_division=0))"
      ],
      "metadata": {
        "id": "FT-GppmD1TtV",
        "colab": {
          "base_uri": "https://localhost:8080/"
        },
        "outputId": "cac52b3a-fa62-49e8-f392-f3b93b405fb9"
      },
      "execution_count": 21,
      "outputs": [
        {
          "output_type": "stream",
          "name": "stdout",
          "text": [
            "              precision    recall  f1-score   support\n",
            "\n",
            "           0       0.93      0.37      0.53     18118\n",
            "           1       0.01      0.05      0.02       556\n",
            "           2       0.15      0.27      0.19      1448\n",
            "           3       0.02      0.33      0.04       162\n",
            "           4       0.21      0.92      0.34      1608\n",
            "\n",
            "    accuracy                           0.40     21892\n",
            "   macro avg       0.26      0.39      0.22     21892\n",
            "weighted avg       0.79      0.40      0.48     21892\n",
            "\n"
          ]
        }
      ]
    }
  ]
}